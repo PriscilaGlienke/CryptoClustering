{
  "cells": [
    {
      "cell_type": "code",
      "execution_count": 160,
      "metadata": {
        "id": "6A9avPcpC-1V"
      },
      "outputs": [],
      "source": [
        "# Import required libraries and dependencies\n",
        "import pandas as pd\n",
        "import matplotlib.pyplot as plt\n",
        "from sklearn.cluster import KMeans\n",
        "from sklearn.decomposition import PCA\n",
        "from sklearn.preprocessing import StandardScaler"
      ]
    },
    {
      "cell_type": "code",
      "execution_count": 161,
      "metadata": {
        "colab": {
          "base_uri": "https://localhost:8080/",
          "height": 493
        },
        "id": "62MMB5ATC-1X",
        "outputId": "fc1502a8-5d46-43b8-e65d-9114405b25d5"
      },
      "outputs": [
        {
          "output_type": "execute_result",
          "data": {
            "text/plain": [
              "                 price_change_percentage_24h  price_change_percentage_7d  \\\n",
              "coin_id                                                                    \n",
              "bitcoin                              1.08388                     7.60278   \n",
              "ethereum                             0.22392                    10.38134   \n",
              "tether                              -0.21173                     0.04935   \n",
              "ripple                              -0.37819                    -0.60926   \n",
              "bitcoin-cash                         2.90585                    17.09717   \n",
              "binancecoin                          2.10423                    12.85511   \n",
              "chainlink                           -0.23935                    20.69459   \n",
              "cardano                              0.00322                    13.99302   \n",
              "litecoin                            -0.06341                     6.60221   \n",
              "bitcoin-cash-sv                      0.92530                     3.29641   \n",
              "\n",
              "                 price_change_percentage_14d  price_change_percentage_30d  \\\n",
              "coin_id                                                                     \n",
              "bitcoin                              6.57509                      7.67258   \n",
              "ethereum                             4.80849                      0.13169   \n",
              "tether                               0.00640                     -0.04237   \n",
              "ripple                               2.24984                      0.23455   \n",
              "bitcoin-cash                        14.75334                     15.74903   \n",
              "binancecoin                          6.80688                      0.05865   \n",
              "chainlink                            9.30098                    -11.21747   \n",
              "cardano                              5.55476                     10.10553   \n",
              "litecoin                             7.28931                      1.21662   \n",
              "bitcoin-cash-sv                     -1.86656                      2.88926   \n",
              "\n",
              "                 price_change_percentage_60d  price_change_percentage_200d  \\\n",
              "coin_id                                                                      \n",
              "bitcoin                             -3.25185                      83.51840   \n",
              "ethereum                           -12.88890                     186.77418   \n",
              "tether                               0.28037                      -0.00542   \n",
              "ripple                             -17.55245                      39.53888   \n",
              "bitcoin-cash                       -13.71793                      21.66042   \n",
              "binancecoin                         36.33486                     155.61937   \n",
              "chainlink                          -43.69522                     403.22917   \n",
              "cardano                            -22.84776                     264.51418   \n",
              "litecoin                           -17.23960                      27.49919   \n",
              "bitcoin-cash-sv                    -24.87434                       7.42562   \n",
              "\n",
              "                 price_change_percentage_1y  \n",
              "coin_id                                      \n",
              "bitcoin                            37.51761  \n",
              "ethereum                          101.96023  \n",
              "tether                              0.01954  \n",
              "ripple                            -16.60193  \n",
              "bitcoin-cash                       14.49384  \n",
              "binancecoin                        69.69195  \n",
              "chainlink                         325.13186  \n",
              "cardano                           156.09756  \n",
              "litecoin                          -12.66408  \n",
              "bitcoin-cash-sv                    93.73082  "
            ],
            "text/html": [
              "\n",
              "  <div id=\"df-6cecb4b1-2c64-4056-a2c7-08ae19fb39f9\">\n",
              "    <div class=\"colab-df-container\">\n",
              "      <div>\n",
              "<style scoped>\n",
              "    .dataframe tbody tr th:only-of-type {\n",
              "        vertical-align: middle;\n",
              "    }\n",
              "\n",
              "    .dataframe tbody tr th {\n",
              "        vertical-align: top;\n",
              "    }\n",
              "\n",
              "    .dataframe thead th {\n",
              "        text-align: right;\n",
              "    }\n",
              "</style>\n",
              "<table border=\"1\" class=\"dataframe\">\n",
              "  <thead>\n",
              "    <tr style=\"text-align: right;\">\n",
              "      <th></th>\n",
              "      <th>price_change_percentage_24h</th>\n",
              "      <th>price_change_percentage_7d</th>\n",
              "      <th>price_change_percentage_14d</th>\n",
              "      <th>price_change_percentage_30d</th>\n",
              "      <th>price_change_percentage_60d</th>\n",
              "      <th>price_change_percentage_200d</th>\n",
              "      <th>price_change_percentage_1y</th>\n",
              "    </tr>\n",
              "    <tr>\n",
              "      <th>coin_id</th>\n",
              "      <th></th>\n",
              "      <th></th>\n",
              "      <th></th>\n",
              "      <th></th>\n",
              "      <th></th>\n",
              "      <th></th>\n",
              "      <th></th>\n",
              "    </tr>\n",
              "  </thead>\n",
              "  <tbody>\n",
              "    <tr>\n",
              "      <th>bitcoin</th>\n",
              "      <td>1.08388</td>\n",
              "      <td>7.60278</td>\n",
              "      <td>6.57509</td>\n",
              "      <td>7.67258</td>\n",
              "      <td>-3.25185</td>\n",
              "      <td>83.51840</td>\n",
              "      <td>37.51761</td>\n",
              "    </tr>\n",
              "    <tr>\n",
              "      <th>ethereum</th>\n",
              "      <td>0.22392</td>\n",
              "      <td>10.38134</td>\n",
              "      <td>4.80849</td>\n",
              "      <td>0.13169</td>\n",
              "      <td>-12.88890</td>\n",
              "      <td>186.77418</td>\n",
              "      <td>101.96023</td>\n",
              "    </tr>\n",
              "    <tr>\n",
              "      <th>tether</th>\n",
              "      <td>-0.21173</td>\n",
              "      <td>0.04935</td>\n",
              "      <td>0.00640</td>\n",
              "      <td>-0.04237</td>\n",
              "      <td>0.28037</td>\n",
              "      <td>-0.00542</td>\n",
              "      <td>0.01954</td>\n",
              "    </tr>\n",
              "    <tr>\n",
              "      <th>ripple</th>\n",
              "      <td>-0.37819</td>\n",
              "      <td>-0.60926</td>\n",
              "      <td>2.24984</td>\n",
              "      <td>0.23455</td>\n",
              "      <td>-17.55245</td>\n",
              "      <td>39.53888</td>\n",
              "      <td>-16.60193</td>\n",
              "    </tr>\n",
              "    <tr>\n",
              "      <th>bitcoin-cash</th>\n",
              "      <td>2.90585</td>\n",
              "      <td>17.09717</td>\n",
              "      <td>14.75334</td>\n",
              "      <td>15.74903</td>\n",
              "      <td>-13.71793</td>\n",
              "      <td>21.66042</td>\n",
              "      <td>14.49384</td>\n",
              "    </tr>\n",
              "    <tr>\n",
              "      <th>binancecoin</th>\n",
              "      <td>2.10423</td>\n",
              "      <td>12.85511</td>\n",
              "      <td>6.80688</td>\n",
              "      <td>0.05865</td>\n",
              "      <td>36.33486</td>\n",
              "      <td>155.61937</td>\n",
              "      <td>69.69195</td>\n",
              "    </tr>\n",
              "    <tr>\n",
              "      <th>chainlink</th>\n",
              "      <td>-0.23935</td>\n",
              "      <td>20.69459</td>\n",
              "      <td>9.30098</td>\n",
              "      <td>-11.21747</td>\n",
              "      <td>-43.69522</td>\n",
              "      <td>403.22917</td>\n",
              "      <td>325.13186</td>\n",
              "    </tr>\n",
              "    <tr>\n",
              "      <th>cardano</th>\n",
              "      <td>0.00322</td>\n",
              "      <td>13.99302</td>\n",
              "      <td>5.55476</td>\n",
              "      <td>10.10553</td>\n",
              "      <td>-22.84776</td>\n",
              "      <td>264.51418</td>\n",
              "      <td>156.09756</td>\n",
              "    </tr>\n",
              "    <tr>\n",
              "      <th>litecoin</th>\n",
              "      <td>-0.06341</td>\n",
              "      <td>6.60221</td>\n",
              "      <td>7.28931</td>\n",
              "      <td>1.21662</td>\n",
              "      <td>-17.23960</td>\n",
              "      <td>27.49919</td>\n",
              "      <td>-12.66408</td>\n",
              "    </tr>\n",
              "    <tr>\n",
              "      <th>bitcoin-cash-sv</th>\n",
              "      <td>0.92530</td>\n",
              "      <td>3.29641</td>\n",
              "      <td>-1.86656</td>\n",
              "      <td>2.88926</td>\n",
              "      <td>-24.87434</td>\n",
              "      <td>7.42562</td>\n",
              "      <td>93.73082</td>\n",
              "    </tr>\n",
              "  </tbody>\n",
              "</table>\n",
              "</div>\n",
              "      <button class=\"colab-df-convert\" onclick=\"convertToInteractive('df-6cecb4b1-2c64-4056-a2c7-08ae19fb39f9')\"\n",
              "              title=\"Convert this dataframe to an interactive table.\"\n",
              "              style=\"display:none;\">\n",
              "        \n",
              "  <svg xmlns=\"http://www.w3.org/2000/svg\" height=\"24px\"viewBox=\"0 0 24 24\"\n",
              "       width=\"24px\">\n",
              "    <path d=\"M0 0h24v24H0V0z\" fill=\"none\"/>\n",
              "    <path d=\"M18.56 5.44l.94 2.06.94-2.06 2.06-.94-2.06-.94-.94-2.06-.94 2.06-2.06.94zm-11 1L8.5 8.5l.94-2.06 2.06-.94-2.06-.94L8.5 2.5l-.94 2.06-2.06.94zm10 10l.94 2.06.94-2.06 2.06-.94-2.06-.94-.94-2.06-.94 2.06-2.06.94z\"/><path d=\"M17.41 7.96l-1.37-1.37c-.4-.4-.92-.59-1.43-.59-.52 0-1.04.2-1.43.59L10.3 9.45l-7.72 7.72c-.78.78-.78 2.05 0 2.83L4 21.41c.39.39.9.59 1.41.59.51 0 1.02-.2 1.41-.59l7.78-7.78 2.81-2.81c.8-.78.8-2.07 0-2.86zM5.41 20L4 18.59l7.72-7.72 1.47 1.35L5.41 20z\"/>\n",
              "  </svg>\n",
              "      </button>\n",
              "      \n",
              "  <style>\n",
              "    .colab-df-container {\n",
              "      display:flex;\n",
              "      flex-wrap:wrap;\n",
              "      gap: 12px;\n",
              "    }\n",
              "\n",
              "    .colab-df-convert {\n",
              "      background-color: #E8F0FE;\n",
              "      border: none;\n",
              "      border-radius: 50%;\n",
              "      cursor: pointer;\n",
              "      display: none;\n",
              "      fill: #1967D2;\n",
              "      height: 32px;\n",
              "      padding: 0 0 0 0;\n",
              "      width: 32px;\n",
              "    }\n",
              "\n",
              "    .colab-df-convert:hover {\n",
              "      background-color: #E2EBFA;\n",
              "      box-shadow: 0px 1px 2px rgba(60, 64, 67, 0.3), 0px 1px 3px 1px rgba(60, 64, 67, 0.15);\n",
              "      fill: #174EA6;\n",
              "    }\n",
              "\n",
              "    [theme=dark] .colab-df-convert {\n",
              "      background-color: #3B4455;\n",
              "      fill: #D2E3FC;\n",
              "    }\n",
              "\n",
              "    [theme=dark] .colab-df-convert:hover {\n",
              "      background-color: #434B5C;\n",
              "      box-shadow: 0px 1px 3px 1px rgba(0, 0, 0, 0.15);\n",
              "      filter: drop-shadow(0px 1px 2px rgba(0, 0, 0, 0.3));\n",
              "      fill: #FFFFFF;\n",
              "    }\n",
              "  </style>\n",
              "\n",
              "      <script>\n",
              "        const buttonEl =\n",
              "          document.querySelector('#df-6cecb4b1-2c64-4056-a2c7-08ae19fb39f9 button.colab-df-convert');\n",
              "        buttonEl.style.display =\n",
              "          google.colab.kernel.accessAllowed ? 'block' : 'none';\n",
              "\n",
              "        async function convertToInteractive(key) {\n",
              "          const element = document.querySelector('#df-6cecb4b1-2c64-4056-a2c7-08ae19fb39f9');\n",
              "          const dataTable =\n",
              "            await google.colab.kernel.invokeFunction('convertToInteractive',\n",
              "                                                     [key], {});\n",
              "          if (!dataTable) return;\n",
              "\n",
              "          const docLinkHtml = 'Like what you see? Visit the ' +\n",
              "            '<a target=\"_blank\" href=https://colab.research.google.com/notebooks/data_table.ipynb>data table notebook</a>'\n",
              "            + ' to learn more about interactive tables.';\n",
              "          element.innerHTML = '';\n",
              "          dataTable['output_type'] = 'display_data';\n",
              "          await google.colab.output.renderOutput(dataTable, element);\n",
              "          const docLink = document.createElement('div');\n",
              "          docLink.innerHTML = docLinkHtml;\n",
              "          element.appendChild(docLink);\n",
              "        }\n",
              "      </script>\n",
              "    </div>\n",
              "  </div>\n",
              "  "
            ]
          },
          "metadata": {},
          "execution_count": 161
        }
      ],
      "source": [
        "# Load the data into a Pandas DataFrame\n",
        "df_market_data = pd.read_csv(\n",
        "    \"crypto_market_data.csv\",\n",
        "    index_col=\"coin_id\")\n",
        "\n",
        "# Display sample data\n",
        "df_market_data.head(10)"
      ]
    },
    {
      "cell_type": "code",
      "execution_count": 162,
      "metadata": {
        "colab": {
          "base_uri": "https://localhost:8080/",
          "height": 364
        },
        "id": "Sm7yHFz0C-1X",
        "outputId": "daedb23d-f229-4296-b48c-a32ea94e86ae"
      },
      "outputs": [
        {
          "output_type": "execute_result",
          "data": {
            "text/plain": [
              "       price_change_percentage_24h  price_change_percentage_7d  \\\n",
              "count                    41.000000                   41.000000   \n",
              "mean                     -0.269686                    4.497147   \n",
              "std                       2.694793                    6.375218   \n",
              "min                     -13.527860                   -6.094560   \n",
              "25%                      -0.608970                    0.047260   \n",
              "50%                      -0.063410                    3.296410   \n",
              "75%                       0.612090                    7.602780   \n",
              "max                       4.840330                   20.694590   \n",
              "\n",
              "       price_change_percentage_14d  price_change_percentage_30d  \\\n",
              "count                    41.000000                    41.000000   \n",
              "mean                      0.185787                     1.545693   \n",
              "std                       8.376939                    26.344218   \n",
              "min                     -18.158900                   -34.705480   \n",
              "25%                      -5.026620                   -10.438470   \n",
              "50%                       0.109740                    -0.042370   \n",
              "75%                       5.510740                     4.578130   \n",
              "max                      24.239190                   140.795700   \n",
              "\n",
              "       price_change_percentage_60d  price_change_percentage_200d  \\\n",
              "count                    41.000000                     41.000000   \n",
              "mean                     -0.094119                    236.537432   \n",
              "std                      47.365803                    435.225304   \n",
              "min                     -44.822480                     -0.392100   \n",
              "25%                     -25.907990                     21.660420   \n",
              "50%                      -7.544550                     83.905200   \n",
              "75%                       0.657260                    216.177610   \n",
              "max                     223.064370                   2227.927820   \n",
              "\n",
              "       price_change_percentage_1y  \n",
              "count                   41.000000  \n",
              "mean                   347.667956  \n",
              "std                   1247.842884  \n",
              "min                    -17.567530  \n",
              "25%                      0.406170  \n",
              "50%                     69.691950  \n",
              "75%                    168.372510  \n",
              "max                   7852.089700  "
            ],
            "text/html": [
              "\n",
              "  <div id=\"df-840ffff7-e48d-444a-9fe1-f636e33ebbfa\">\n",
              "    <div class=\"colab-df-container\">\n",
              "      <div>\n",
              "<style scoped>\n",
              "    .dataframe tbody tr th:only-of-type {\n",
              "        vertical-align: middle;\n",
              "    }\n",
              "\n",
              "    .dataframe tbody tr th {\n",
              "        vertical-align: top;\n",
              "    }\n",
              "\n",
              "    .dataframe thead th {\n",
              "        text-align: right;\n",
              "    }\n",
              "</style>\n",
              "<table border=\"1\" class=\"dataframe\">\n",
              "  <thead>\n",
              "    <tr style=\"text-align: right;\">\n",
              "      <th></th>\n",
              "      <th>price_change_percentage_24h</th>\n",
              "      <th>price_change_percentage_7d</th>\n",
              "      <th>price_change_percentage_14d</th>\n",
              "      <th>price_change_percentage_30d</th>\n",
              "      <th>price_change_percentage_60d</th>\n",
              "      <th>price_change_percentage_200d</th>\n",
              "      <th>price_change_percentage_1y</th>\n",
              "    </tr>\n",
              "  </thead>\n",
              "  <tbody>\n",
              "    <tr>\n",
              "      <th>count</th>\n",
              "      <td>41.000000</td>\n",
              "      <td>41.000000</td>\n",
              "      <td>41.000000</td>\n",
              "      <td>41.000000</td>\n",
              "      <td>41.000000</td>\n",
              "      <td>41.000000</td>\n",
              "      <td>41.000000</td>\n",
              "    </tr>\n",
              "    <tr>\n",
              "      <th>mean</th>\n",
              "      <td>-0.269686</td>\n",
              "      <td>4.497147</td>\n",
              "      <td>0.185787</td>\n",
              "      <td>1.545693</td>\n",
              "      <td>-0.094119</td>\n",
              "      <td>236.537432</td>\n",
              "      <td>347.667956</td>\n",
              "    </tr>\n",
              "    <tr>\n",
              "      <th>std</th>\n",
              "      <td>2.694793</td>\n",
              "      <td>6.375218</td>\n",
              "      <td>8.376939</td>\n",
              "      <td>26.344218</td>\n",
              "      <td>47.365803</td>\n",
              "      <td>435.225304</td>\n",
              "      <td>1247.842884</td>\n",
              "    </tr>\n",
              "    <tr>\n",
              "      <th>min</th>\n",
              "      <td>-13.527860</td>\n",
              "      <td>-6.094560</td>\n",
              "      <td>-18.158900</td>\n",
              "      <td>-34.705480</td>\n",
              "      <td>-44.822480</td>\n",
              "      <td>-0.392100</td>\n",
              "      <td>-17.567530</td>\n",
              "    </tr>\n",
              "    <tr>\n",
              "      <th>25%</th>\n",
              "      <td>-0.608970</td>\n",
              "      <td>0.047260</td>\n",
              "      <td>-5.026620</td>\n",
              "      <td>-10.438470</td>\n",
              "      <td>-25.907990</td>\n",
              "      <td>21.660420</td>\n",
              "      <td>0.406170</td>\n",
              "    </tr>\n",
              "    <tr>\n",
              "      <th>50%</th>\n",
              "      <td>-0.063410</td>\n",
              "      <td>3.296410</td>\n",
              "      <td>0.109740</td>\n",
              "      <td>-0.042370</td>\n",
              "      <td>-7.544550</td>\n",
              "      <td>83.905200</td>\n",
              "      <td>69.691950</td>\n",
              "    </tr>\n",
              "    <tr>\n",
              "      <th>75%</th>\n",
              "      <td>0.612090</td>\n",
              "      <td>7.602780</td>\n",
              "      <td>5.510740</td>\n",
              "      <td>4.578130</td>\n",
              "      <td>0.657260</td>\n",
              "      <td>216.177610</td>\n",
              "      <td>168.372510</td>\n",
              "    </tr>\n",
              "    <tr>\n",
              "      <th>max</th>\n",
              "      <td>4.840330</td>\n",
              "      <td>20.694590</td>\n",
              "      <td>24.239190</td>\n",
              "      <td>140.795700</td>\n",
              "      <td>223.064370</td>\n",
              "      <td>2227.927820</td>\n",
              "      <td>7852.089700</td>\n",
              "    </tr>\n",
              "  </tbody>\n",
              "</table>\n",
              "</div>\n",
              "      <button class=\"colab-df-convert\" onclick=\"convertToInteractive('df-840ffff7-e48d-444a-9fe1-f636e33ebbfa')\"\n",
              "              title=\"Convert this dataframe to an interactive table.\"\n",
              "              style=\"display:none;\">\n",
              "        \n",
              "  <svg xmlns=\"http://www.w3.org/2000/svg\" height=\"24px\"viewBox=\"0 0 24 24\"\n",
              "       width=\"24px\">\n",
              "    <path d=\"M0 0h24v24H0V0z\" fill=\"none\"/>\n",
              "    <path d=\"M18.56 5.44l.94 2.06.94-2.06 2.06-.94-2.06-.94-.94-2.06-.94 2.06-2.06.94zm-11 1L8.5 8.5l.94-2.06 2.06-.94-2.06-.94L8.5 2.5l-.94 2.06-2.06.94zm10 10l.94 2.06.94-2.06 2.06-.94-2.06-.94-.94-2.06-.94 2.06-2.06.94z\"/><path d=\"M17.41 7.96l-1.37-1.37c-.4-.4-.92-.59-1.43-.59-.52 0-1.04.2-1.43.59L10.3 9.45l-7.72 7.72c-.78.78-.78 2.05 0 2.83L4 21.41c.39.39.9.59 1.41.59.51 0 1.02-.2 1.41-.59l7.78-7.78 2.81-2.81c.8-.78.8-2.07 0-2.86zM5.41 20L4 18.59l7.72-7.72 1.47 1.35L5.41 20z\"/>\n",
              "  </svg>\n",
              "      </button>\n",
              "      \n",
              "  <style>\n",
              "    .colab-df-container {\n",
              "      display:flex;\n",
              "      flex-wrap:wrap;\n",
              "      gap: 12px;\n",
              "    }\n",
              "\n",
              "    .colab-df-convert {\n",
              "      background-color: #E8F0FE;\n",
              "      border: none;\n",
              "      border-radius: 50%;\n",
              "      cursor: pointer;\n",
              "      display: none;\n",
              "      fill: #1967D2;\n",
              "      height: 32px;\n",
              "      padding: 0 0 0 0;\n",
              "      width: 32px;\n",
              "    }\n",
              "\n",
              "    .colab-df-convert:hover {\n",
              "      background-color: #E2EBFA;\n",
              "      box-shadow: 0px 1px 2px rgba(60, 64, 67, 0.3), 0px 1px 3px 1px rgba(60, 64, 67, 0.15);\n",
              "      fill: #174EA6;\n",
              "    }\n",
              "\n",
              "    [theme=dark] .colab-df-convert {\n",
              "      background-color: #3B4455;\n",
              "      fill: #D2E3FC;\n",
              "    }\n",
              "\n",
              "    [theme=dark] .colab-df-convert:hover {\n",
              "      background-color: #434B5C;\n",
              "      box-shadow: 0px 1px 3px 1px rgba(0, 0, 0, 0.15);\n",
              "      filter: drop-shadow(0px 1px 2px rgba(0, 0, 0, 0.3));\n",
              "      fill: #FFFFFF;\n",
              "    }\n",
              "  </style>\n",
              "\n",
              "      <script>\n",
              "        const buttonEl =\n",
              "          document.querySelector('#df-840ffff7-e48d-444a-9fe1-f636e33ebbfa button.colab-df-convert');\n",
              "        buttonEl.style.display =\n",
              "          google.colab.kernel.accessAllowed ? 'block' : 'none';\n",
              "\n",
              "        async function convertToInteractive(key) {\n",
              "          const element = document.querySelector('#df-840ffff7-e48d-444a-9fe1-f636e33ebbfa');\n",
              "          const dataTable =\n",
              "            await google.colab.kernel.invokeFunction('convertToInteractive',\n",
              "                                                     [key], {});\n",
              "          if (!dataTable) return;\n",
              "\n",
              "          const docLinkHtml = 'Like what you see? Visit the ' +\n",
              "            '<a target=\"_blank\" href=https://colab.research.google.com/notebooks/data_table.ipynb>data table notebook</a>'\n",
              "            + ' to learn more about interactive tables.';\n",
              "          element.innerHTML = '';\n",
              "          dataTable['output_type'] = 'display_data';\n",
              "          await google.colab.output.renderOutput(dataTable, element);\n",
              "          const docLink = document.createElement('div');\n",
              "          docLink.innerHTML = docLinkHtml;\n",
              "          element.appendChild(docLink);\n",
              "        }\n",
              "      </script>\n",
              "    </div>\n",
              "  </div>\n",
              "  "
            ]
          },
          "metadata": {},
          "execution_count": 162
        }
      ],
      "source": [
        "# Generate summary statistics\n",
        "df_market_data.describe()"
      ]
    },
    {
      "cell_type": "code",
      "execution_count": 163,
      "metadata": {
        "colab": {
          "base_uri": "https://localhost:8080/",
          "height": 459
        },
        "id": "TeE-BcELC-1Y",
        "outputId": "9447a36f-754d-4481-a27d-6b3730d68c6a"
      },
      "outputs": [
        {
          "output_type": "display_data",
          "data": {
            "text/plain": [
              "<Figure size 800x400 with 1 Axes>"
            ],
            "image/png": "[encoded data removed]"
          },
          "metadata": {}
        }
      ],
      "source": [
        "# Plot your data to see what's in your DataFrame\n",
        "plt.figure(figsize=(8,4))\n",
        "plt.plot(df_market_data.index, df_market_data.values)\n",
        "plt.xticks(rotation=90)\n",
        "plt.show()"
      ]
    },
    {
      "cell_type": "markdown",
      "metadata": {
        "id": "ImwUNVERC-1Y"
      },
      "source": [
        "---"
      ]
    },
    {
      "cell_type": "markdown",
      "metadata": {
        "id": "ydUJZr5XC-1Z"
      },
      "source": [
        "### Prepare the Data"
      ]
    },
    {
      "cell_type": "code",
      "execution_count": 164,
      "metadata": {
        "id": "MMN6eFf5C-1Z"
      },
      "outputs": [],
      "source": [
        "# Use the `StandardScaler()` module from scikit-learn to normalize the data from the CSV file\n",
        "scaler = StandardScaler().fit_transform(df_market_data)"
      ]
    },
    {
      "cell_type": "code",
      "execution_count": 165,
      "metadata": {
        "colab": {
          "base_uri": "https://localhost:8080/",
          "height": 319
        },
        "id": "WOOh2VhSC-1Z",
        "outputId": "35e48585-f608-4300-e5c6-f939ece99a16"
      },
      "outputs": [
        {
          "output_type": "execute_result",
          "data": {
            "text/plain": [
              "              price_change_percentage_24h  price_change_percentage_7d  \\\n",
              "coin_id                                                                 \n",
              "bitcoin                          0.508529                    0.493193   \n",
              "ethereum                         0.185446                    0.934445   \n",
              "tether                           0.021774                   -0.706337   \n",
              "ripple                          -0.040764                   -0.810928   \n",
              "bitcoin-cash                     1.193036                    2.000959   \n",
              "\n",
              "              price_change_percentage_14d  price_change_percentage_30d  \\\n",
              "coin_id                                                                  \n",
              "bitcoin                          0.772200                     0.235460   \n",
              "ethereum                         0.558692                    -0.054341   \n",
              "tether                          -0.021680                    -0.061030   \n",
              "ripple                           0.249458                    -0.050388   \n",
              "bitcoin-cash                     1.760610                     0.545842   \n",
              "\n",
              "              price_change_percentage_60d  price_change_percentage_200d  \\\n",
              "coin_id                                                                   \n",
              "bitcoin                         -0.067495                     -0.355953   \n",
              "ethereum                        -0.273483                     -0.115759   \n",
              "tether                           0.008005                     -0.550247   \n",
              "ripple                          -0.373164                     -0.458259   \n",
              "bitcoin-cash                    -0.291203                     -0.499848   \n",
              "\n",
              "              price_change_percentage_1y  \n",
              "coin_id                                   \n",
              "bitcoin                        -0.251637  \n",
              "ethereum                       -0.199352  \n",
              "tether                         -0.282061  \n",
              "ripple                         -0.295546  \n",
              "bitcoin-cash                   -0.270317  "
            ],
            "text/html": [
              "\n",
              "  <div id=\"df-6a51acf8-4a13-4dfb-89a8-f954d30aab6f\">\n",
              "    <div class=\"colab-df-container\">\n",
              "      <div>\n",
              "<style scoped>\n",
              "    .dataframe tbody tr th:only-of-type {\n",
              "        vertical-align: middle;\n",
              "    }\n",
              "\n",
              "    .dataframe tbody tr th {\n",
              "        vertical-align: top;\n",
              "    }\n",
              "\n",
              "    .dataframe thead th {\n",
              "        text-align: right;\n",
              "    }\n",
              "</style>\n",
              "<table border=\"1\" class=\"dataframe\">\n",
              "  <thead>\n",
              "    <tr style=\"text-align: right;\">\n",
              "      <th></th>\n",
              "      <th>price_change_percentage_24h</th>\n",
              "      <th>price_change_percentage_7d</th>\n",
              "      <th>price_change_percentage_14d</th>\n",
              "      <th>price_change_percentage_30d</th>\n",
              "      <th>price_change_percentage_60d</th>\n",
              "      <th>price_change_percentage_200d</th>\n",
              "      <th>price_change_percentage_1y</th>\n",
              "    </tr>\n",
              "    <tr>\n",
              "      <th>coin_id</th>\n",
              "      <th></th>\n",
              "      <th></th>\n",
              "      <th></th>\n",
              "      <th></th>\n",
              "      <th></th>\n",
              "      <th></th>\n",
              "      <th></th>\n",
              "    </tr>\n",
              "  </thead>\n",
              "  <tbody>\n",
              "    <tr>\n",
              "      <th>bitcoin</th>\n",
              "      <td>0.508529</td>\n",
              "      <td>0.493193</td>\n",
              "      <td>0.772200</td>\n",
              "      <td>0.235460</td>\n",
              "      <td>-0.067495</td>\n",
              "      <td>-0.355953</td>\n",
              "      <td>-0.251637</td>\n",
              "    </tr>\n",
              "    <tr>\n",
              "      <th>ethereum</th>\n",
              "      <td>0.185446</td>\n",
              "      <td>0.934445</td>\n",
              "      <td>0.558692</td>\n",
              "      <td>-0.054341</td>\n",
              "      <td>-0.273483</td>\n",
              "      <td>-0.115759</td>\n",
              "      <td>-0.199352</td>\n",
              "    </tr>\n",
              "    <tr>\n",
              "      <th>tether</th>\n",
              "      <td>0.021774</td>\n",
              "      <td>-0.706337</td>\n",
              "      <td>-0.021680</td>\n",
              "      <td>-0.061030</td>\n",
              "      <td>0.008005</td>\n",
              "      <td>-0.550247</td>\n",
              "      <td>-0.282061</td>\n",
              "    </tr>\n",
              "    <tr>\n",
              "      <th>ripple</th>\n",
              "      <td>-0.040764</td>\n",
              "      <td>-0.810928</td>\n",
              "      <td>0.249458</td>\n",
              "      <td>-0.050388</td>\n",
              "      <td>-0.373164</td>\n",
              "      <td>-0.458259</td>\n",
              "      <td>-0.295546</td>\n",
              "    </tr>\n",
              "    <tr>\n",
              "      <th>bitcoin-cash</th>\n",
              "      <td>1.193036</td>\n",
              "      <td>2.000959</td>\n",
              "      <td>1.760610</td>\n",
              "      <td>0.545842</td>\n",
              "      <td>-0.291203</td>\n",
              "      <td>-0.499848</td>\n",
              "      <td>-0.270317</td>\n",
              "    </tr>\n",
              "  </tbody>\n",
              "</table>\n",
              "</div>\n",
              "      <button class=\"colab-df-convert\" onclick=\"convertToInteractive('df-6a51acf8-4a13-4dfb-89a8-f954d30aab6f')\"\n",
              "              title=\"Convert this dataframe to an interactive table.\"\n",
              "              style=\"display:none;\">\n",
              "        \n",
              "  <svg xmlns=\"http://www.w3.org/2000/svg\" height=\"24px\"viewBox=\"0 0 24 24\"\n",
              "       width=\"24px\">\n",
              "    <path d=\"M0 0h24v24H0V0z\" fill=\"none\"/>\n",
              "    <path d=\"M18.56 5.44l.94 2.06.94-2.06 2.06-.94-2.06-.94-.94-2.06-.94 2.06-2.06.94zm-11 1L8.5 8.5l.94-2.06 2.06-.94-2.06-.94L8.5 2.5l-.94 2.06-2.06.94zm10 10l.94 2.06.94-2.06 2.06-.94-2.06-.94-.94-2.06-.94 2.06-2.06.94z\"/><path d=\"M17.41 7.96l-1.37-1.37c-.4-.4-.92-.59-1.43-.59-.52 0-1.04.2-1.43.59L10.3 9.45l-7.72 7.72c-.78.78-.78 2.05 0 2.83L4 21.41c.39.39.9.59 1.41.59.51 0 1.02-.2 1.41-.59l7.78-7.78 2.81-2.81c.8-.78.8-2.07 0-2.86zM5.41 20L4 18.59l7.72-7.72 1.47 1.35L5.41 20z\"/>\n",
              "  </svg>\n",
              "      </button>\n",
              "      \n",
              "  <style>\n",
              "    .colab-df-container {\n",
              "      display:flex;\n",
              "      flex-wrap:wrap;\n",
              "      gap: 12px;\n",
              "    }\n",
              "\n",
              "    .colab-df-convert {\n",
              "      background-color: #E8F0FE;\n",
              "      border: none;\n",
              "      border-radius: 50%;\n",
              "      cursor: pointer;\n",
              "      display: none;\n",
              "      fill: #1967D2;\n",
              "      height: 32px;\n",
              "      padding: 0 0 0 0;\n",
              "      width: 32px;\n",
              "    }\n",
              "\n",
              "    .colab-df-convert:hover {\n",
              "      background-color: #E2EBFA;\n",
              "      box-shadow: 0px 1px 2px rgba(60, 64, 67, 0.3), 0px 1px 3px 1px rgba(60, 64, 67, 0.15);\n",
              "      fill: #174EA6;\n",
              "    }\n",
              "\n",
              "    [theme=dark] .colab-df-convert {\n",
              "      background-color: #3B4455;\n",
              "      fill: #D2E3FC;\n",
              "    }\n",
              "\n",
              "    [theme=dark] .colab-df-convert:hover {\n",
              "      background-color: #434B5C;\n",
              "      box-shadow: 0px 1px 3px 1px rgba(0, 0, 0, 0.15);\n",
              "      filter: drop-shadow(0px 1px 2px rgba(0, 0, 0, 0.3));\n",
              "      fill: #FFFFFF;\n",
              "    }\n",
              "  </style>\n",
              "\n",
              "      <script>\n",
              "        const buttonEl =\n",
              "          document.querySelector('#df-6a51acf8-4a13-4dfb-89a8-f954d30aab6f button.colab-df-convert');\n",
              "        buttonEl.style.display =\n",
              "          google.colab.kernel.accessAllowed ? 'block' : 'none';\n",
              "\n",
              "        async function convertToInteractive(key) {\n",
              "          const element = document.querySelector('#df-6a51acf8-4a13-4dfb-89a8-f954d30aab6f');\n",
              "          const dataTable =\n",
              "            await google.colab.kernel.invokeFunction('convertToInteractive',\n",
              "                                                     [key], {});\n",
              "          if (!dataTable) return;\n",
              "\n",
              "          const docLinkHtml = 'Like what you see? Visit the ' +\n",
              "            '<a target=\"_blank\" href=https://colab.research.google.com/notebooks/data_table.ipynb>data table notebook</a>'\n",
              "            + ' to learn more about interactive tables.';\n",
              "          element.innerHTML = '';\n",
              "          dataTable['output_type'] = 'display_data';\n",
              "          await google.colab.output.renderOutput(dataTable, element);\n",
              "          const docLink = document.createElement('div');\n",
              "          docLink.innerHTML = docLinkHtml;\n",
              "          element.appendChild(docLink);\n",
              "        }\n",
              "      </script>\n",
              "    </div>\n",
              "  </div>\n",
              "  "
            ]
          },
          "metadata": {},
          "execution_count": 165
        }
      ],
      "source": [
        "# Create a DataFrame with the scaled data\n",
        "df_market_data_scaled = pd.DataFrame(scaler, columns=df_market_data.columns)\n",
        "\n",
        "# Copy the crypto names from the original data\n",
        "df_market_data_scaled[\"coin_id\"] = df_market_data.index\n",
        "# Set the coinid column as index\n",
        "df_market_data_scaled = df_market_data_scaled.set_index(\"coin_id\")\n",
        "\n",
        "# Display sample data\n",
        "df_market_data_scaled.head()"
      ]
    },
    {
      "cell_type": "markdown",
      "metadata": {
        "id": "TM7AZIKBC-1Z"
      },
      "source": [
        "---"
      ]
    },
    {
      "cell_type": "markdown",
      "metadata": {
        "id": "t7TNCdBsC-1a"
      },
      "source": [
        "### Find the Best Value for k Using the Original Data."
      ]
    },
    {
      "cell_type": "code",
      "execution_count": 166,
      "metadata": {
        "id": "WuhQm7TkC-1a"
      },
      "outputs": [],
      "source": [
        "# Create a list with the number of k-values from 1 to 11\n",
        "k = list(range(1, 11))"
      ]
    },
    {
      "cell_type": "code",
      "execution_count": 167,
      "metadata": {
        "colab": {
          "base_uri": "https://localhost:8080/"
        },
        "id": "Yq94xmg5C-1a",
        "outputId": "501071f7-ead2-42cb-a970-0dc5fd3791df"
      },
      "outputs": [
        {
          "output_type": "stream",
          "name": "stderr",
          "text": [
            "/usr/local/lib/python3.10/dist-packages/sklearn/cluster/_kmeans.py:870: FutureWarning: The default value of `n_init` will change from 10 to 'auto' in 1.4. Set the value of `n_init` explicitly to suppress the warning\n",
            "  warnings.warn(\n",
            "/usr/local/lib/python3.10/dist-packages/sklearn/cluster/_kmeans.py:870: FutureWarning: The default value of `n_init` will change from 10 to 'auto' in 1.4. Set the value of `n_init` explicitly to suppress the warning\n",
            "  warnings.warn(\n",
            "/usr/local/lib/python3.10/dist-packages/sklearn/cluster/_kmeans.py:870: FutureWarning: The default value of `n_init` will change from 10 to 'auto' in 1.4. Set the value of `n_init` explicitly to suppress the warning\n",
            "  warnings.warn(\n",
            "/usr/local/lib/python3.10/dist-packages/sklearn/cluster/_kmeans.py:870: FutureWarning: The default value of `n_init` will change from 10 to 'auto' in 1.4. Set the value of `n_init` explicitly to suppress the warning\n",
            "  warnings.warn(\n",
            "/usr/local/lib/python3.10/dist-packages/sklearn/cluster/_kmeans.py:870: FutureWarning: The default value of `n_init` will change from 10 to 'auto' in 1.4. Set the value of `n_init` explicitly to suppress the warning\n",
            "  warnings.warn(\n",
            "/usr/local/lib/python3.10/dist-packages/sklearn/cluster/_kmeans.py:870: FutureWarning: The default value of `n_init` will change from 10 to 'auto' in 1.4. Set the value of `n_init` explicitly to suppress the warning\n",
            "  warnings.warn(\n",
            "/usr/local/lib/python3.10/dist-packages/sklearn/cluster/_kmeans.py:870: FutureWarning: The default value of `n_init` will change from 10 to 'auto' in 1.4. Set the value of `n_init` explicitly to suppress the warning\n",
            "  warnings.warn(\n",
            "/usr/local/lib/python3.10/dist-packages/sklearn/cluster/_kmeans.py:870: FutureWarning: The default value of `n_init` will change from 10 to 'auto' in 1.4. Set the value of `n_init` explicitly to suppress the warning\n",
            "  warnings.warn(\n",
            "/usr/local/lib/python3.10/dist-packages/sklearn/cluster/_kmeans.py:870: FutureWarning: The default value of `n_init` will change from 10 to 'auto' in 1.4. Set the value of `n_init` explicitly to suppress the warning\n",
            "  warnings.warn(\n",
            "/usr/local/lib/python3.10/dist-packages/sklearn/cluster/_kmeans.py:870: FutureWarning: The default value of `n_init` will change from 10 to 'auto' in 1.4. Set the value of `n_init` explicitly to suppress the warning\n",
            "  warnings.warn(\n"
          ]
        }
      ],
      "source": [
        "# Create an empty list to store the inertia values\n",
        "inertia = []\n",
        "\n",
        "# Create a for loop to compute the inertia with each possible value of k\n",
        "# Inside the loop:\n",
        "# 1. Create a KMeans model using the loop counter for the n_clusters\n",
        "# 2. Fit the model to the data using `df_market_data_scaled`\n",
        "# 3. Append the model.inertia_ to the inertia list\n",
        "\n",
        "for i in k:\n",
        "    k_model = KMeans(n_clusters=i, random_state=0)\n",
        "    k_model.fit(df_market_data_scaled)\n",
        "    inertia.append(k_model.inertia_)\n"
      ]
    },
    {
      "cell_type": "code",
      "execution_count": 168,
      "metadata": {
        "colab": {
          "base_uri": "https://localhost:8080/",
          "height": 206
        },
        "id": "zc4OVynxC-1a",
        "outputId": "6221b3d6-3e47-4bab-d7ef-048c0fed8f0d"
      },
      "outputs": [
        {
          "output_type": "execute_result",
          "data": {
            "text/plain": [
              "   k     inertia\n",
              "0  1  287.000000\n",
              "1  2  195.820218\n",
              "2  3  123.190482\n",
              "3  4   79.022435\n",
              "4  5   65.302379"
            ],
            "text/html": [
              "\n",
              "  <div id=\"df-f5ca9e80-0765-498b-a547-0daba0a04578\">\n",
              "    <div class=\"colab-df-container\">\n",
              "      <div>\n",
              "<style scoped>\n",
              "    .dataframe tbody tr th:only-of-type {\n",
              "        vertical-align: middle;\n",
              "    }\n",
              "\n",
              "    .dataframe tbody tr th {\n",
              "        vertical-align: top;\n",
              "    }\n",
              "\n",
              "    .dataframe thead th {\n",
              "        text-align: right;\n",
              "    }\n",
              "</style>\n",
              "<table border=\"1\" class=\"dataframe\">\n",
              "  <thead>\n",
              "    <tr style=\"text-align: right;\">\n",
              "      <th></th>\n",
              "      <th>k</th>\n",
              "      <th>inertia</th>\n",
              "    </tr>\n",
              "  </thead>\n",
              "  <tbody>\n",
              "    <tr>\n",
              "      <th>0</th>\n",
              "      <td>1</td>\n",
              "      <td>287.000000</td>\n",
              "    </tr>\n",
              "    <tr>\n",
              "      <th>1</th>\n",
              "      <td>2</td>\n",
              "      <td>195.820218</td>\n",
              "    </tr>\n",
              "    <tr>\n",
              "      <th>2</th>\n",
              "      <td>3</td>\n",
              "      <td>123.190482</td>\n",
              "    </tr>\n",
              "    <tr>\n",
              "      <th>3</th>\n",
              "      <td>4</td>\n",
              "      <td>79.022435</td>\n",
              "    </tr>\n",
              "    <tr>\n",
              "      <th>4</th>\n",
              "      <td>5</td>\n",
              "      <td>65.302379</td>\n",
              "    </tr>\n",
              "  </tbody>\n",
              "</table>\n",
              "</div>\n",
              "      <button class=\"colab-df-convert\" onclick=\"convertToInteractive('df-f5ca9e80-0765-498b-a547-0daba0a04578')\"\n",
              "              title=\"Convert this dataframe to an interactive table.\"\n",
              "              style=\"display:none;\">\n",
              "        \n",
              "  <svg xmlns=\"http://www.w3.org/2000/svg\" height=\"24px\"viewBox=\"0 0 24 24\"\n",
              "       width=\"24px\">\n",
              "    <path d=\"M0 0h24v24H0V0z\" fill=\"none\"/>\n",
              "    <path d=\"M18.56 5.44l.94 2.06.94-2.06 2.06-.94-2.06-.94-.94-2.06-.94 2.06-2.06.94zm-11 1L8.5 8.5l.94-2.06 2.06-.94-2.06-.94L8.5 2.5l-.94 2.06-2.06.94zm10 10l.94 2.06.94-2.06 2.06-.94-2.06-.94-.94-2.06-.94 2.06-2.06.94z\"/><path d=\"M17.41 7.96l-1.37-1.37c-.4-.4-.92-.59-1.43-.59-.52 0-1.04.2-1.43.59L10.3 9.45l-7.72 7.72c-.78.78-.78 2.05 0 2.83L4 21.41c.39.39.9.59 1.41.59.51 0 1.02-.2 1.41-.59l7.78-7.78 2.81-2.81c.8-.78.8-2.07 0-2.86zM5.41 20L4 18.59l7.72-7.72 1.47 1.35L5.41 20z\"/>\n",
              "  </svg>\n",
              "      </button>\n",
              "      \n",
              "  <style>\n",
              "    .colab-df-container {\n",
              "      display:flex;\n",
              "      flex-wrap:wrap;\n",
              "      gap: 12px;\n",
              "    }\n",
              "\n",
              "    .colab-df-convert {\n",
              "      background-color: #E8F0FE;\n",
              "      border: none;\n",
              "      border-radius: 50%;\n",
              "      cursor: pointer;\n",
              "      display: none;\n",
              "      fill: #1967D2;\n",
              "      height: 32px;\n",
              "      padding: 0 0 0 0;\n",
              "      width: 32px;\n",
              "    }\n",
              "\n",
              "    .colab-df-convert:hover {\n",
              "      background-color: #E2EBFA;\n",
              "      box-shadow: 0px 1px 2px rgba(60, 64, 67, 0.3), 0px 1px 3px 1px rgba(60, 64, 67, 0.15);\n",
              "      fill: #174EA6;\n",
              "    }\n",
              "\n",
              "    [theme=dark] .colab-df-convert {\n",
              "      background-color: #3B4455;\n",
              "      fill: #D2E3FC;\n",
              "    }\n",
              "\n",
              "    [theme=dark] .colab-df-convert:hover {\n",
              "      background-color: #434B5C;\n",
              "      box-shadow: 0px 1px 3px 1px rgba(0, 0, 0, 0.15);\n",
              "      filter: drop-shadow(0px 1px 2px rgba(0, 0, 0, 0.3));\n",
              "      fill: #FFFFFF;\n",
              "    }\n",
              "  </style>\n",
              "\n",
              "      <script>\n",
              "        const buttonEl =\n",
              "          document.querySelector('#df-f5ca9e80-0765-498b-a547-0daba0a04578 button.colab-df-convert');\n",
              "        buttonEl.style.display =\n",
              "          google.colab.kernel.accessAllowed ? 'block' : 'none';\n",
              "\n",
              "        async function convertToInteractive(key) {\n",
              "          const element = document.querySelector('#df-f5ca9e80-0765-498b-a547-0daba0a04578');\n",
              "          const dataTable =\n",
              "            await google.colab.kernel.invokeFunction('convertToInteractive',\n",
              "                                                     [key], {});\n",
              "          if (!dataTable) return;\n",
              "\n",
              "          const docLinkHtml = 'Like what you see? Visit the ' +\n",
              "            '<a target=\"_blank\" href=https://colab.research.google.com/notebooks/data_table.ipynb>data table notebook</a>'\n",
              "            + ' to learn more about interactive tables.';\n",
              "          element.innerHTML = '';\n",
              "          dataTable['output_type'] = 'display_data';\n",
              "          await google.colab.output.renderOutput(dataTable, element);\n",
              "          const docLink = document.createElement('div');\n",
              "          docLink.innerHTML = docLinkHtml;\n",
              "          element.appendChild(docLink);\n",
              "        }\n",
              "      </script>\n",
              "    </div>\n",
              "  </div>\n",
              "  "
            ]
          },
          "metadata": {},
          "execution_count": 168
        }
      ],
      "source": [
        "# Create a dictionary with the data to plot the Elbow curve\n",
        "elbow_data = {\"k\": k, \"inertia\": inertia}\n",
        "\n",
        "# Create a DataFrame with the data to plot the Elbow curve\n",
        "df_elbow = pd.DataFrame(elbow_data)\n",
        "df_elbow.head()"
      ]
    },
    {
      "cell_type": "code",
      "execution_count": 169,
      "metadata": {
        "colab": {
          "base_uri": "https://localhost:8080/",
          "height": 467
        },
        "id": "mVhdkFswC-1a",
        "outputId": "ba8d1642-8f57-4071-f999-bfe8be7d27c9"
      },
      "outputs": [
        {
          "output_type": "execute_result",
          "data": {
            "text/plain": [
              "<Axes: xlabel='k'>"
            ]
          },
          "metadata": {},
          "execution_count": 169
        },
        {
          "output_type": "display_data",
          "data": {
            "text/plain": [
              "<Figure size 640x480 with 1 Axes>"
            ],
            "image/png": "[encoded data removed]"
          },
          "metadata": {}
        }
      ],
      "source": [
        "# Plot a line chart with all the inertia values computed with\n",
        "# the different values of k to visually identify the optimal value for k.\n",
        "df_elbow.plot('k', 'inertia')"
      ]
    },
    {
      "cell_type": "markdown",
      "metadata": {
        "id": "cqrZnmscC-1b"
      },
      "source": [
        "#### Answer the following question:\n",
        "\n",
        "**Question:** What is the best value for `k`?\n",
        "\n",
        "**Answer:** Considering the elbow curve, the best value for 'k' seems to be 3, since the line that displays the inertia values decreases significantly from that point on."
      ]
    },
    {
      "cell_type": "markdown",
      "metadata": {
        "id": "OgzJ3hLdC-1b"
      },
      "source": [
        "---"
      ]
    },
    {
      "cell_type": "markdown",
      "metadata": {
        "id": "D6PqE-zmC-1b"
      },
      "source": [
        "### Cluster Cryptocurrencies with K-means Using the Original Data"
      ]
    },
    {
      "cell_type": "code",
      "execution_count": 170,
      "metadata": {
        "id": "KAsL3U16C-1b"
      },
      "outputs": [],
      "source": [
        "# Initialize the K-Means model using the best value for k\n",
        "# Define the model Kmeans model using the optimal value of k for the number of clusters.\n",
        "k_segment = KMeans(n_clusters=3, random_state=1)"
      ]
    },
    {
      "cell_type": "code",
      "execution_count": 171,
      "metadata": {
        "colab": {
          "base_uri": "https://localhost:8080/",
          "height": 130
        },
        "id": "bc3JcZ05C-1b",
        "outputId": "07bb8c39-bc60-48a5-d32f-2ffcb8552d5f"
      },
      "outputs": [
        {
          "output_type": "stream",
          "name": "stderr",
          "text": [
            "/usr/local/lib/python3.10/dist-packages/sklearn/cluster/_kmeans.py:870: FutureWarning: The default value of `n_init` will change from 10 to 'auto' in 1.4. Set the value of `n_init` explicitly to suppress the warning\n",
            "  warnings.warn(\n"
          ]
        },
        {
          "output_type": "execute_result",
          "data": {
            "text/plain": [
              "KMeans(n_clusters=3, random_state=1)"
            ],
            "text/html": [
              "<style>#sk-container-id-8 {color: black;background-color: white;}#sk-container-id-8 pre{padding: 0;}#sk-container-id-8 div.sk-toggleable {background-color: white;}#sk-container-id-8 label.sk-toggleable__label {cursor: pointer;display: block;width: 100%;margin-bottom: 0;padding: 0.3em;box-sizing: border-box;text-align: center;}#sk-container-id-8 label.sk-toggleable__label-arrow:before {content: \"▸\";float: left;margin-right: 0.25em;color: #696969;}#sk-container-id-8 label.sk-toggleable__label-arrow:hover:before {color: black;}#sk-container-id-8 div.sk-estimator:hover label.sk-toggleable__label-arrow:before {color: black;}#sk-container-id-8 div.sk-toggleable__content {max-height: 0;max-width: 0;overflow: hidden;text-align: left;background-color: #f0f8ff;}#sk-container-id-8 div.sk-toggleable__content pre {margin: 0.2em;color: black;border-radius: 0.25em;background-color: #f0f8ff;}#sk-container-id-8 input.sk-toggleable__control:checked~div.sk-toggleable__content {max-height: 200px;max-width: 100%;overflow: auto;}#sk-container-id-8 input.sk-toggleable__control:checked~label.sk-toggleable__label-arrow:before {content: \"▾\";}#sk-container-id-8 div.sk-estimator input.sk-toggleable__control:checked~label.sk-toggleable__label {background-color: #d4ebff;}#sk-container-id-8 div.sk-label input.sk-toggleable__control:checked~label.sk-toggleable__label {background-color: #d4ebff;}#sk-container-id-8 input.sk-hidden--visually {border: 0;clip: rect(1px 1px 1px 1px);clip: rect(1px, 1px, 1px, 1px);height: 1px;margin: -1px;overflow: hidden;padding: 0;position: absolute;width: 1px;}#sk-container-id-8 div.sk-estimator {font-family: monospace;background-color: #f0f8ff;border: 1px dotted black;border-radius: 0.25em;box-sizing: border-box;margin-bottom: 0.5em;}#sk-container-id-8 div.sk-estimator:hover {background-color: #d4ebff;}#sk-container-id-8 div.sk-parallel-item::after {content: \"\";width: 100%;border-bottom: 1px solid gray;flex-grow: 1;}#sk-container-id-8 div.sk-label:hover label.sk-toggleable__label {background-color: #d4ebff;}#sk-container-id-8 div.sk-serial::before {content: \"\";position: absolute;border-left: 1px solid gray;box-sizing: border-box;top: 0;bottom: 0;left: 50%;z-index: 0;}#sk-container-id-8 div.sk-serial {display: flex;flex-direction: column;align-items: center;background-color: white;padding-right: 0.2em;padding-left: 0.2em;position: relative;}#sk-container-id-8 div.sk-item {position: relative;z-index: 1;}#sk-container-id-8 div.sk-parallel {display: flex;align-items: stretch;justify-content: center;background-color: white;position: relative;}#sk-container-id-8 div.sk-item::before, #sk-container-id-8 div.sk-parallel-item::before {content: \"\";position: absolute;border-left: 1px solid gray;box-sizing: border-box;top: 0;bottom: 0;left: 50%;z-index: -1;}#sk-container-id-8 div.sk-parallel-item {display: flex;flex-direction: column;z-index: 1;position: relative;background-color: white;}#sk-container-id-8 div.sk-parallel-item:first-child::after {align-self: flex-end;width: 50%;}#sk-container-id-8 div.sk-parallel-item:last-child::after {align-self: flex-start;width: 50%;}#sk-container-id-8 div.sk-parallel-item:only-child::after {width: 0;}#sk-container-id-8 div.sk-dashed-wrapped {border: 1px dashed gray;margin: 0 0.4em 0.5em 0.4em;box-sizing: border-box;padding-bottom: 0.4em;background-color: white;}#sk-container-id-8 div.sk-label label {font-family: monospace;font-weight: bold;display: inline-block;line-height: 1.2em;}#sk-container-id-8 div.sk-label-container {text-align: center;}#sk-container-id-8 div.sk-container {/* jupyter's `normalize.less` sets `[hidden] { display: none; }` but bootstrap.min.css set `[hidden] { display: none !important; }` so we also need the `!important` here to be able to override the default hidden behavior on the sphinx rendered scikit-learn.org. See: https://github.com/scikit-learn/scikit-learn/issues/21755 */display: inline-block !important;position: relative;}#sk-container-id-8 div.sk-text-repr-fallback {display: none;}</style><div id=\"sk-container-id-8\" class=\"sk-top-container\"><div class=\"sk-text-repr-fallback\"><pre>KMeans(n_clusters=3, random_state=1)</pre><b>In a Jupyter environment, please rerun this cell to show the HTML representation or trust the notebook. <br />On GitHub, the HTML representation is unable to render, please try loading this page with nbviewer.org.</b></div><div class=\"sk-container\" hidden><div class=\"sk-item\"><div class=\"sk-estimator sk-toggleable\"><input class=\"sk-toggleable__control sk-hidden--visually\" id=\"sk-estimator-id-8\" type=\"checkbox\" checked><label for=\"sk-estimator-id-8\" class=\"sk-toggleable__label sk-toggleable__label-arrow\">KMeans</label><div class=\"sk-toggleable__content\"><pre>KMeans(n_clusters=3, random_state=1)</pre></div></div></div></div></div>"
            ]
          },
          "metadata": {},
          "execution_count": 171
        }
      ],
      "source": [
        "# Fit the K-Means model using the scaled data\n",
        "k_segment.fit(df_market_data_scaled)"
      ]
    },
    {
      "cell_type": "code",
      "execution_count": 172,
      "metadata": {
        "colab": {
          "base_uri": "https://localhost:8080/"
        },
        "id": "meyCFFssC-1b",
        "outputId": "aaeef60b-38c9-41fb-d4e5-a3e16511e6a8"
      },
      "outputs": [
        {
          "output_type": "execute_result",
          "data": {
            "text/plain": [
              "array([1, 1, 1, 1, 1, 1, 1, 1, 1, 1, 1, 1, 1, 1, 1, 1, 1, 1, 1, 1, 1, 1,\n",
              "       1, 1, 1, 1, 1, 1, 1, 1, 1, 1, 2, 1, 1, 1, 0, 1, 1, 1, 1],\n",
              "      dtype=int32)"
            ]
          },
          "metadata": {},
          "execution_count": 172
        }
      ],
      "source": [
        "# Predict the clusters to group the cryptocurrencies using the scaled data\n",
        "k_pred = k_segment.predict(df_market_data_scaled)\n",
        "\n",
        "# Print the resulting array of cluster values.\n",
        "k_pred"
      ]
    },
    {
      "cell_type": "code",
      "execution_count": 173,
      "metadata": {
        "id": "6hk5sBDxC-1b"
      },
      "outputs": [],
      "source": [
        "# Create a copy of the DataFrame\n",
        "market_data_k_df = df_market_data_scaled.copy()"
      ]
    },
    {
      "cell_type": "code",
      "execution_count": 174,
      "metadata": {
        "colab": {
          "base_uri": "https://localhost:8080/",
          "height": 528
        },
        "id": "f1oq7-CiC-1c",
        "outputId": "f6507384-628d-41f7-d60d-26c2eb0bd2c0"
      },
      "outputs": [
        {
          "output_type": "execute_result",
          "data": {
            "text/plain": [
              "                  price_change_percentage_24h  price_change_percentage_7d  \\\n",
              "coin_id                                                                     \n",
              "huobi-token                         -0.052032                   -0.457229   \n",
              "usd-coin                             0.034352                   -0.733026   \n",
              "wrapped-bitcoin                      0.515453                    0.461843   \n",
              "stellar                             -0.277543                   -0.385209   \n",
              "neo                                  0.286546                   -0.326301   \n",
              "tron                                 0.130050                   -0.041018   \n",
              "digibyte                             1.217453                   -0.607714   \n",
              "crypto-com-chain                     0.331280                   -1.614844   \n",
              "monero                               0.262723                    1.792602   \n",
              "leo-token                            0.051758                   -0.928381   \n",
              "\n",
              "                  price_change_percentage_14d  price_change_percentage_30d  \\\n",
              "coin_id                                                                      \n",
              "huobi-token                          0.032522                    -0.184489   \n",
              "usd-coin                            -0.023140                    -0.065775   \n",
              "wrapped-bitcoin                      0.769975                     0.224045   \n",
              "stellar                             -0.153243                    -0.371816   \n",
              "neo                                 -1.212670                    -0.903134   \n",
              "tron                                 0.147155                    -0.543776   \n",
              "digibyte                            -0.907066                     0.449939   \n",
              "crypto-com-chain                    -1.054521                    -0.729931   \n",
              "monero                               2.202665                     1.437842   \n",
              "leo-token                           -0.871918                     0.058782   \n",
              "\n",
              "                  price_change_percentage_60d  price_change_percentage_200d  \\\n",
              "coin_id                                                                       \n",
              "huobi-token                         -0.070809                     -0.451982   \n",
              "usd-coin                             0.002925                     -0.550599   \n",
              "wrapped-bitcoin                     -0.074674                     -0.355054   \n",
              "stellar                             -0.656403                     -0.353387   \n",
              "neo                                  0.290970                     -0.181187   \n",
              "tron                                 0.120116                     -0.241118   \n",
              "digibyte                            -0.662530                      0.572367   \n",
              "crypto-com-chain                    -0.350155                     -0.022866   \n",
              "monero                               0.893865                     -0.155893   \n",
              "leo-token                           -0.159250                     -0.512071   \n",
              "\n",
              "                  price_change_percentage_1y  k_seg  \n",
              "coin_id                                              \n",
              "huobi-token                        -0.262140      1  \n",
              "usd-coin                           -0.282232      1  \n",
              "wrapped-bitcoin                    -0.251623      1  \n",
              "stellar                            -0.270874      1  \n",
              "neo                                -0.175550      1  \n",
              "tron                               -0.234014      1  \n",
              "digibyte                           -0.132482      1  \n",
              "crypto-com-chain                   -0.034570      1  \n",
              "monero                             -0.167644      1  \n",
              "leo-token                          -0.265036      1  "
            ],
            "text/html": [
              "\n",
              "  <div id=\"df-eca7b332-899e-4c3c-87ed-cd52b06f0e7d\">\n",
              "    <div class=\"colab-df-container\">\n",
              "      <div>\n",
              "<style scoped>\n",
              "    .dataframe tbody tr th:only-of-type {\n",
              "        vertical-align: middle;\n",
              "    }\n",
              "\n",
              "    .dataframe tbody tr th {\n",
              "        vertical-align: top;\n",
              "    }\n",
              "\n",
              "    .dataframe thead th {\n",
              "        text-align: right;\n",
              "    }\n",
              "</style>\n",
              "<table border=\"1\" class=\"dataframe\">\n",
              "  <thead>\n",
              "    <tr style=\"text-align: right;\">\n",
              "      <th></th>\n",
              "      <th>price_change_percentage_24h</th>\n",
              "      <th>price_change_percentage_7d</th>\n",
              "      <th>price_change_percentage_14d</th>\n",
              "      <th>price_change_percentage_30d</th>\n",
              "      <th>price_change_percentage_60d</th>\n",
              "      <th>price_change_percentage_200d</th>\n",
              "      <th>price_change_percentage_1y</th>\n",
              "      <th>k_seg</th>\n",
              "    </tr>\n",
              "    <tr>\n",
              "      <th>coin_id</th>\n",
              "      <th></th>\n",
              "      <th></th>\n",
              "      <th></th>\n",
              "      <th></th>\n",
              "      <th></th>\n",
              "      <th></th>\n",
              "      <th></th>\n",
              "      <th></th>\n",
              "    </tr>\n",
              "  </thead>\n",
              "  <tbody>\n",
              "    <tr>\n",
              "      <th>huobi-token</th>\n",
              "      <td>-0.052032</td>\n",
              "      <td>-0.457229</td>\n",
              "      <td>0.032522</td>\n",
              "      <td>-0.184489</td>\n",
              "      <td>-0.070809</td>\n",
              "      <td>-0.451982</td>\n",
              "      <td>-0.262140</td>\n",
              "      <td>1</td>\n",
              "    </tr>\n",
              "    <tr>\n",
              "      <th>usd-coin</th>\n",
              "      <td>0.034352</td>\n",
              "      <td>-0.733026</td>\n",
              "      <td>-0.023140</td>\n",
              "      <td>-0.065775</td>\n",
              "      <td>0.002925</td>\n",
              "      <td>-0.550599</td>\n",
              "      <td>-0.282232</td>\n",
              "      <td>1</td>\n",
              "    </tr>\n",
              "    <tr>\n",
              "      <th>wrapped-bitcoin</th>\n",
              "      <td>0.515453</td>\n",
              "      <td>0.461843</td>\n",
              "      <td>0.769975</td>\n",
              "      <td>0.224045</td>\n",
              "      <td>-0.074674</td>\n",
              "      <td>-0.355054</td>\n",
              "      <td>-0.251623</td>\n",
              "      <td>1</td>\n",
              "    </tr>\n",
              "    <tr>\n",
              "      <th>stellar</th>\n",
              "      <td>-0.277543</td>\n",
              "      <td>-0.385209</td>\n",
              "      <td>-0.153243</td>\n",
              "      <td>-0.371816</td>\n",
              "      <td>-0.656403</td>\n",
              "      <td>-0.353387</td>\n",
              "      <td>-0.270874</td>\n",
              "      <td>1</td>\n",
              "    </tr>\n",
              "    <tr>\n",
              "      <th>neo</th>\n",
              "      <td>0.286546</td>\n",
              "      <td>-0.326301</td>\n",
              "      <td>-1.212670</td>\n",
              "      <td>-0.903134</td>\n",
              "      <td>0.290970</td>\n",
              "      <td>-0.181187</td>\n",
              "      <td>-0.175550</td>\n",
              "      <td>1</td>\n",
              "    </tr>\n",
              "    <tr>\n",
              "      <th>tron</th>\n",
              "      <td>0.130050</td>\n",
              "      <td>-0.041018</td>\n",
              "      <td>0.147155</td>\n",
              "      <td>-0.543776</td>\n",
              "      <td>0.120116</td>\n",
              "      <td>-0.241118</td>\n",
              "      <td>-0.234014</td>\n",
              "      <td>1</td>\n",
              "    </tr>\n",
              "    <tr>\n",
              "      <th>digibyte</th>\n",
              "      <td>1.217453</td>\n",
              "      <td>-0.607714</td>\n",
              "      <td>-0.907066</td>\n",
              "      <td>0.449939</td>\n",
              "      <td>-0.662530</td>\n",
              "      <td>0.572367</td>\n",
              "      <td>-0.132482</td>\n",
              "      <td>1</td>\n",
              "    </tr>\n",
              "    <tr>\n",
              "      <th>crypto-com-chain</th>\n",
              "      <td>0.331280</td>\n",
              "      <td>-1.614844</td>\n",
              "      <td>-1.054521</td>\n",
              "      <td>-0.729931</td>\n",
              "      <td>-0.350155</td>\n",
              "      <td>-0.022866</td>\n",
              "      <td>-0.034570</td>\n",
              "      <td>1</td>\n",
              "    </tr>\n",
              "    <tr>\n",
              "      <th>monero</th>\n",
              "      <td>0.262723</td>\n",
              "      <td>1.792602</td>\n",
              "      <td>2.202665</td>\n",
              "      <td>1.437842</td>\n",
              "      <td>0.893865</td>\n",
              "      <td>-0.155893</td>\n",
              "      <td>-0.167644</td>\n",
              "      <td>1</td>\n",
              "    </tr>\n",
              "    <tr>\n",
              "      <th>leo-token</th>\n",
              "      <td>0.051758</td>\n",
              "      <td>-0.928381</td>\n",
              "      <td>-0.871918</td>\n",
              "      <td>0.058782</td>\n",
              "      <td>-0.159250</td>\n",
              "      <td>-0.512071</td>\n",
              "      <td>-0.265036</td>\n",
              "      <td>1</td>\n",
              "    </tr>\n",
              "  </tbody>\n",
              "</table>\n",
              "</div>\n",
              "      <button class=\"colab-df-convert\" onclick=\"convertToInteractive('df-eca7b332-899e-4c3c-87ed-cd52b06f0e7d')\"\n",
              "              title=\"Convert this dataframe to an interactive table.\"\n",
              "              style=\"display:none;\">\n",
              "        \n",
              "  <svg xmlns=\"http://www.w3.org/2000/svg\" height=\"24px\"viewBox=\"0 0 24 24\"\n",
              "       width=\"24px\">\n",
              "    <path d=\"M0 0h24v24H0V0z\" fill=\"none\"/>\n",
              "    <path d=\"M18.56 5.44l.94 2.06.94-2.06 2.06-.94-2.06-.94-.94-2.06-.94 2.06-2.06.94zm-11 1L8.5 8.5l.94-2.06 2.06-.94-2.06-.94L8.5 2.5l-.94 2.06-2.06.94zm10 10l.94 2.06.94-2.06 2.06-.94-2.06-.94-.94-2.06-.94 2.06-2.06.94z\"/><path d=\"M17.41 7.96l-1.37-1.37c-.4-.4-.92-.59-1.43-.59-.52 0-1.04.2-1.43.59L10.3 9.45l-7.72 7.72c-.78.78-.78 2.05 0 2.83L4 21.41c.39.39.9.59 1.41.59.51 0 1.02-.2 1.41-.59l7.78-7.78 2.81-2.81c.8-.78.8-2.07 0-2.86zM5.41 20L4 18.59l7.72-7.72 1.47 1.35L5.41 20z\"/>\n",
              "  </svg>\n",
              "      </button>\n",
              "      \n",
              "  <style>\n",
              "    .colab-df-container {\n",
              "      display:flex;\n",
              "      flex-wrap:wrap;\n",
              "      gap: 12px;\n",
              "    }\n",
              "\n",
              "    .colab-df-convert {\n",
              "      background-color: #E8F0FE;\n",
              "      border: none;\n",
              "      border-radius: 50%;\n",
              "      cursor: pointer;\n",
              "      display: none;\n",
              "      fill: #1967D2;\n",
              "      height: 32px;\n",
              "      padding: 0 0 0 0;\n",
              "      width: 32px;\n",
              "    }\n",
              "\n",
              "    .colab-df-convert:hover {\n",
              "      background-color: #E2EBFA;\n",
              "      box-shadow: 0px 1px 2px rgba(60, 64, 67, 0.3), 0px 1px 3px 1px rgba(60, 64, 67, 0.15);\n",
              "      fill: #174EA6;\n",
              "    }\n",
              "\n",
              "    [theme=dark] .colab-df-convert {\n",
              "      background-color: #3B4455;\n",
              "      fill: #D2E3FC;\n",
              "    }\n",
              "\n",
              "    [theme=dark] .colab-df-convert:hover {\n",
              "      background-color: #434B5C;\n",
              "      box-shadow: 0px 1px 3px 1px rgba(0, 0, 0, 0.15);\n",
              "      filter: drop-shadow(0px 1px 2px rgba(0, 0, 0, 0.3));\n",
              "      fill: #FFFFFF;\n",
              "    }\n",
              "  </style>\n",
              "\n",
              "      <script>\n",
              "        const buttonEl =\n",
              "          document.querySelector('#df-eca7b332-899e-4c3c-87ed-cd52b06f0e7d button.colab-df-convert');\n",
              "        buttonEl.style.display =\n",
              "          google.colab.kernel.accessAllowed ? 'block' : 'none';\n",
              "\n",
              "        async function convertToInteractive(key) {\n",
              "          const element = document.querySelector('#df-eca7b332-899e-4c3c-87ed-cd52b06f0e7d');\n",
              "          const dataTable =\n",
              "            await google.colab.kernel.invokeFunction('convertToInteractive',\n",
              "                                                     [key], {});\n",
              "          if (!dataTable) return;\n",
              "\n",
              "          const docLinkHtml = 'Like what you see? Visit the ' +\n",
              "            '<a target=\"_blank\" href=https://colab.research.google.com/notebooks/data_table.ipynb>data table notebook</a>'\n",
              "            + ' to learn more about interactive tables.';\n",
              "          element.innerHTML = '';\n",
              "          dataTable['output_type'] = 'display_data';\n",
              "          await google.colab.output.renderOutput(dataTable, element);\n",
              "          const docLink = document.createElement('div');\n",
              "          docLink.innerHTML = docLinkHtml;\n",
              "          element.appendChild(docLink);\n",
              "        }\n",
              "      </script>\n",
              "    </div>\n",
              "  </div>\n",
              "  "
            ]
          },
          "metadata": {},
          "execution_count": 174
        }
      ],
      "source": [
        "# Add a new column to the DataFrame with the predicted clusters\n",
        "market_data_k_df['k_seg'] = k_pred\n",
        "\n",
        "# Display sample data\n",
        "market_data_k_df.sample(10)"
      ]
    },
    {
      "cell_type": "code",
      "execution_count": 175,
      "metadata": {
        "colab": {
          "base_uri": "https://localhost:8080/",
          "height": 455
        },
        "id": "ZV-GwVpyC-1c",
        "outputId": "e5403806-420a-43b5-fef1-d6cf874abe28"
      },
      "outputs": [
        {
          "output_type": "display_data",
          "data": {
            "text/plain": [
              "<Figure size 640x480 with 2 Axes>"
            ],
            "image/png": "[encoded data removed]"
          },
          "metadata": {}
        }
      ],
      "source": [
        "# Create a scatter plot using hvPlot by setting - Used Matplotlib\n",
        "# `x=\"price_change_percentage_24h\"` and `y=\"price_change_percentage_7d\"`.\n",
        "# Color the graph points with the labels found using K-Means and\n",
        "# add the crypto name in the `hover_cols` parameter to identify\n",
        "# the cryptocurrency represented by each data point.\n",
        "\n",
        "scatter_plot = market_data_k_df.plot.scatter(\n",
        "    \"price_change_percentage_24h\",\n",
        "    \"price_change_percentage_7d\",\n",
        "    c='k_seg',\n",
        "    cmap=\"viridis\")\n",
        "\n",
        "plt.show()\n"
      ]
    },
    {
      "cell_type": "markdown",
      "metadata": {
        "id": "kFjrecPoC-1c"
      },
      "source": [
        "---"
      ]
    },
    {
      "cell_type": "markdown",
      "metadata": {
        "id": "160JC8HAC-1c"
      },
      "source": [
        "### Optimize Clusters with Principal Component Analysis."
      ]
    },
    {
      "cell_type": "code",
      "execution_count": 176,
      "metadata": {
        "id": "OSWjei-mC-1c"
      },
      "outputs": [],
      "source": [
        "# Create a PCA model instance and set `n_components=3`.\n",
        "pca = PCA(n_components=3)"
      ]
    },
    {
      "cell_type": "code",
      "execution_count": 177,
      "metadata": {
        "colab": {
          "base_uri": "https://localhost:8080/"
        },
        "id": "mKGT2H1QC-1c",
        "outputId": "a5812c6e-0dc1-4f23-8ada-086b26fbbc25"
      },
      "outputs": [
        {
          "output_type": "execute_result",
          "data": {
            "text/plain": [
              "array([[-0.60066733,  0.84276006,  0.46159457],\n",
              "       [-0.45826071,  0.45846566,  0.95287678],\n",
              "       [-0.43306981, -0.16812638, -0.64175193],\n",
              "       [-0.47183495, -0.22266008, -0.47905316],\n",
              "       [-1.15779997,  2.04120919,  1.85971527]])"
            ]
          },
          "metadata": {},
          "execution_count": 177
        }
      ],
      "source": [
        "# Use the PCA model with `fit_transform` to reduce to\n",
        "# three principal components.\n",
        "pca_market_data = pca.fit_transform(df_market_data_scaled)\n",
        "# View the first five rows of the DataFrame.\n",
        "pca_market_data[0:5,]"
      ]
    },
    {
      "cell_type": "code",
      "execution_count": 178,
      "metadata": {
        "colab": {
          "base_uri": "https://localhost:8080/"
        },
        "id": "SYWUgab5C-1c",
        "outputId": "17c8d782-8095-42fc-ceb9-812357ef8958"
      },
      "outputs": [
        {
          "output_type": "stream",
          "name": "stdout",
          "text": [
            "[0.3719856  0.34700813 0.17603793]\n",
            "Total Explained Variane: 0.8950\n"
          ]
        }
      ],
      "source": [
        "# Retrieve the explained variance to determine how much information\n",
        "# can be attributed to each principal component.\n",
        "explained_variance = pca.explained_variance_ratio_\n",
        "\n",
        "total_variance = sum(explained_variance)\n",
        "\n",
        "print(explained_variance)\n",
        "print(f\"Total Explained Variane: {total_variance:.4f}\")"
      ]
    },
    {
      "cell_type": "markdown",
      "metadata": {
        "id": "DkxcxR1NC-1c"
      },
      "source": [
        "#### Answer the following question:\n",
        "\n",
        "**Question:** What is the total explained variance of the three principal components?\n",
        "\n",
        "**Answer:** Total Explained Variane: 0.8950\n"
      ]
    },
    {
      "cell_type": "code",
      "source": [
        "import numpy as np\n",
        "loadings = pca.components_\n",
        "absolute_loadings = np.abs(loadings)\n",
        "most_important_features = np.argmax(absolute_loadings, axis=1)\n",
        "for component, feature_idx in enumerate(most_important_features):\n",
        "    feature_name = df_market_data_scaled.columns[feature_idx]  # Assuming you have column names\n",
        "    print(f\"Component {component+1}: Most important feature is {feature_name}\")"
      ],
      "metadata": {
        "colab": {
          "base_uri": "https://localhost:8080/"
        },
        "id": "UlWeXkp4PRGh",
        "outputId": "c7401a42-5035-4ff1-f2b1-2a6fbe250dea"
      },
      "execution_count": 179,
      "outputs": [
        {
          "output_type": "stream",
          "name": "stdout",
          "text": [
            "Component 1: Most important feature is price_change_percentage_200d\n",
            "Component 2: Most important feature is price_change_percentage_30d\n",
            "Component 3: Most important feature is price_change_percentage_7d\n"
          ]
        }
      ]
    },
    {
      "cell_type": "code",
      "execution_count": 180,
      "metadata": {
        "colab": {
          "base_uri": "https://localhost:8080/",
          "height": 394
        },
        "id": "6gHEuqlZC-1d",
        "outputId": "ddc5ae10-52bb-4454-be35-0434b123b35e"
      },
      "outputs": [
        {
          "output_type": "execute_result",
          "data": {
            "text/plain": [
              "               PCA1      PCA2      PCA3\n",
              "coin_id                                \n",
              "havven     0.865762 -2.261882  0.275583\n",
              "tether    -0.433070 -0.168126 -0.641752\n",
              "monero     0.060499  2.909404  1.498571\n",
              "litecoin  -0.649468  0.432165  0.600303\n",
              "ethereum  -0.458261  0.458466  0.952877\n",
              "true-usd  -0.458131 -0.135734 -0.635284\n",
              "cardano   -0.345600  0.729439  1.478013\n",
              "leo-token -0.413296 -0.674115 -1.076628\n",
              "usd-coin  -0.438408 -0.175337 -0.663388\n",
              "cdai      -0.513528 -0.142802 -0.656566"
            ],
            "text/html": [
              "\n",
              "  <div id=\"df-129b87cf-9c28-4356-94e4-d0731fc59e88\">\n",
              "    <div class=\"colab-df-container\">\n",
              "      <div>\n",
              "<style scoped>\n",
              "    .dataframe tbody tr th:only-of-type {\n",
              "        vertical-align: middle;\n",
              "    }\n",
              "\n",
              "    .dataframe tbody tr th {\n",
              "        vertical-align: top;\n",
              "    }\n",
              "\n",
              "    .dataframe thead th {\n",
              "        text-align: right;\n",
              "    }\n",
              "</style>\n",
              "<table border=\"1\" class=\"dataframe\">\n",
              "  <thead>\n",
              "    <tr style=\"text-align: right;\">\n",
              "      <th></th>\n",
              "      <th>PCA1</th>\n",
              "      <th>PCA2</th>\n",
              "      <th>PCA3</th>\n",
              "    </tr>\n",
              "    <tr>\n",
              "      <th>coin_id</th>\n",
              "      <th></th>\n",
              "      <th></th>\n",
              "      <th></th>\n",
              "    </tr>\n",
              "  </thead>\n",
              "  <tbody>\n",
              "    <tr>\n",
              "      <th>havven</th>\n",
              "      <td>0.865762</td>\n",
              "      <td>-2.261882</td>\n",
              "      <td>0.275583</td>\n",
              "    </tr>\n",
              "    <tr>\n",
              "      <th>tether</th>\n",
              "      <td>-0.433070</td>\n",
              "      <td>-0.168126</td>\n",
              "      <td>-0.641752</td>\n",
              "    </tr>\n",
              "    <tr>\n",
              "      <th>monero</th>\n",
              "      <td>0.060499</td>\n",
              "      <td>2.909404</td>\n",
              "      <td>1.498571</td>\n",
              "    </tr>\n",
              "    <tr>\n",
              "      <th>litecoin</th>\n",
              "      <td>-0.649468</td>\n",
              "      <td>0.432165</td>\n",
              "      <td>0.600303</td>\n",
              "    </tr>\n",
              "    <tr>\n",
              "      <th>ethereum</th>\n",
              "      <td>-0.458261</td>\n",
              "      <td>0.458466</td>\n",
              "      <td>0.952877</td>\n",
              "    </tr>\n",
              "    <tr>\n",
              "      <th>true-usd</th>\n",
              "      <td>-0.458131</td>\n",
              "      <td>-0.135734</td>\n",
              "      <td>-0.635284</td>\n",
              "    </tr>\n",
              "    <tr>\n",
              "      <th>cardano</th>\n",
              "      <td>-0.345600</td>\n",
              "      <td>0.729439</td>\n",
              "      <td>1.478013</td>\n",
              "    </tr>\n",
              "    <tr>\n",
              "      <th>leo-token</th>\n",
              "      <td>-0.413296</td>\n",
              "      <td>-0.674115</td>\n",
              "      <td>-1.076628</td>\n",
              "    </tr>\n",
              "    <tr>\n",
              "      <th>usd-coin</th>\n",
              "      <td>-0.438408</td>\n",
              "      <td>-0.175337</td>\n",
              "      <td>-0.663388</td>\n",
              "    </tr>\n",
              "    <tr>\n",
              "      <th>cdai</th>\n",
              "      <td>-0.513528</td>\n",
              "      <td>-0.142802</td>\n",
              "      <td>-0.656566</td>\n",
              "    </tr>\n",
              "  </tbody>\n",
              "</table>\n",
              "</div>\n",
              "      <button class=\"colab-df-convert\" onclick=\"convertToInteractive('df-129b87cf-9c28-4356-94e4-d0731fc59e88')\"\n",
              "              title=\"Convert this dataframe to an interactive table.\"\n",
              "              style=\"display:none;\">\n",
              "        \n",
              "  <svg xmlns=\"http://www.w3.org/2000/svg\" height=\"24px\"viewBox=\"0 0 24 24\"\n",
              "       width=\"24px\">\n",
              "    <path d=\"M0 0h24v24H0V0z\" fill=\"none\"/>\n",
              "    <path d=\"M18.56 5.44l.94 2.06.94-2.06 2.06-.94-2.06-.94-.94-2.06-.94 2.06-2.06.94zm-11 1L8.5 8.5l.94-2.06 2.06-.94-2.06-.94L8.5 2.5l-.94 2.06-2.06.94zm10 10l.94 2.06.94-2.06 2.06-.94-2.06-.94-.94-2.06-.94 2.06-2.06.94z\"/><path d=\"M17.41 7.96l-1.37-1.37c-.4-.4-.92-.59-1.43-.59-.52 0-1.04.2-1.43.59L10.3 9.45l-7.72 7.72c-.78.78-.78 2.05 0 2.83L4 21.41c.39.39.9.59 1.41.59.51 0 1.02-.2 1.41-.59l7.78-7.78 2.81-2.81c.8-.78.8-2.07 0-2.86zM5.41 20L4 18.59l7.72-7.72 1.47 1.35L5.41 20z\"/>\n",
              "  </svg>\n",
              "      </button>\n",
              "      \n",
              "  <style>\n",
              "    .colab-df-container {\n",
              "      display:flex;\n",
              "      flex-wrap:wrap;\n",
              "      gap: 12px;\n",
              "    }\n",
              "\n",
              "    .colab-df-convert {\n",
              "      background-color: #E8F0FE;\n",
              "      border: none;\n",
              "      border-radius: 50%;\n",
              "      cursor: pointer;\n",
              "      display: none;\n",
              "      fill: #1967D2;\n",
              "      height: 32px;\n",
              "      padding: 0 0 0 0;\n",
              "      width: 32px;\n",
              "    }\n",
              "\n",
              "    .colab-df-convert:hover {\n",
              "      background-color: #E2EBFA;\n",
              "      box-shadow: 0px 1px 2px rgba(60, 64, 67, 0.3), 0px 1px 3px 1px rgba(60, 64, 67, 0.15);\n",
              "      fill: #174EA6;\n",
              "    }\n",
              "\n",
              "    [theme=dark] .colab-df-convert {\n",
              "      background-color: #3B4455;\n",
              "      fill: #D2E3FC;\n",
              "    }\n",
              "\n",
              "    [theme=dark] .colab-df-convert:hover {\n",
              "      background-color: #434B5C;\n",
              "      box-shadow: 0px 1px 3px 1px rgba(0, 0, 0, 0.15);\n",
              "      filter: drop-shadow(0px 1px 2px rgba(0, 0, 0, 0.3));\n",
              "      fill: #FFFFFF;\n",
              "    }\n",
              "  </style>\n",
              "\n",
              "      <script>\n",
              "        const buttonEl =\n",
              "          document.querySelector('#df-129b87cf-9c28-4356-94e4-d0731fc59e88 button.colab-df-convert');\n",
              "        buttonEl.style.display =\n",
              "          google.colab.kernel.accessAllowed ? 'block' : 'none';\n",
              "\n",
              "        async function convertToInteractive(key) {\n",
              "          const element = document.querySelector('#df-129b87cf-9c28-4356-94e4-d0731fc59e88');\n",
              "          const dataTable =\n",
              "            await google.colab.kernel.invokeFunction('convertToInteractive',\n",
              "                                                     [key], {});\n",
              "          if (!dataTable) return;\n",
              "\n",
              "          const docLinkHtml = 'Like what you see? Visit the ' +\n",
              "            '<a target=\"_blank\" href=https://colab.research.google.com/notebooks/data_table.ipynb>data table notebook</a>'\n",
              "            + ' to learn more about interactive tables.';\n",
              "          element.innerHTML = '';\n",
              "          dataTable['output_type'] = 'display_data';\n",
              "          await google.colab.output.renderOutput(dataTable, element);\n",
              "          const docLink = document.createElement('div');\n",
              "          docLink.innerHTML = docLinkHtml;\n",
              "          element.appendChild(docLink);\n",
              "        }\n",
              "      </script>\n",
              "    </div>\n",
              "  </div>\n",
              "  "
            ]
          },
          "metadata": {},
          "execution_count": 180
        }
      ],
      "source": [
        "# Create a new DataFrame with the PCA data.\n",
        "pca_market_data_df = pd.DataFrame(pca_market_data, columns=['PCA1', 'PCA2', 'PCA3'])\n",
        "\n",
        "# Creating a DataFrame with the PCA data\n",
        "# pca_market_data_df.sample(10)\n",
        "\n",
        "# Copy the crypto names from the original data\n",
        "pca_market_data_df[\"coin_id\"] = df_market_data.index\n",
        "\n",
        "# Set the coinid column as index\n",
        "pca_market_data_df.set_index(\"coin_id\", inplace=True)\n",
        "\n",
        "# Display sample data\n",
        "pca_market_data_df.sample(10)"
      ]
    },
    {
      "cell_type": "markdown",
      "metadata": {
        "id": "OOjYvYuLC-1d"
      },
      "source": [
        "---"
      ]
    },
    {
      "cell_type": "markdown",
      "metadata": {
        "id": "qjSRWyO3C-1d"
      },
      "source": [
        "### Find the Best Value for k Using the PCA Data"
      ]
    },
    {
      "cell_type": "code",
      "execution_count": 181,
      "metadata": {
        "id": "C9jm0V5zC-1d"
      },
      "outputs": [],
      "source": [
        "# Create a list with the number of k-values from 1 to 11\n",
        "k_pca = list(range(1, 11))"
      ]
    },
    {
      "cell_type": "code",
      "execution_count": 182,
      "metadata": {
        "colab": {
          "base_uri": "https://localhost:8080/"
        },
        "id": "EI26erYwC-1d",
        "outputId": "138b838f-3a81-4bfc-9041-f969904658f3"
      },
      "outputs": [
        {
          "output_type": "stream",
          "name": "stderr",
          "text": [
            "/usr/local/lib/python3.10/dist-packages/sklearn/cluster/_kmeans.py:870: FutureWarning: The default value of `n_init` will change from 10 to 'auto' in 1.4. Set the value of `n_init` explicitly to suppress the warning\n",
            "  warnings.warn(\n",
            "/usr/local/lib/python3.10/dist-packages/sklearn/cluster/_kmeans.py:870: FutureWarning: The default value of `n_init` will change from 10 to 'auto' in 1.4. Set the value of `n_init` explicitly to suppress the warning\n",
            "  warnings.warn(\n",
            "/usr/local/lib/python3.10/dist-packages/sklearn/cluster/_kmeans.py:870: FutureWarning: The default value of `n_init` will change from 10 to 'auto' in 1.4. Set the value of `n_init` explicitly to suppress the warning\n",
            "  warnings.warn(\n",
            "/usr/local/lib/python3.10/dist-packages/sklearn/cluster/_kmeans.py:870: FutureWarning: The default value of `n_init` will change from 10 to 'auto' in 1.4. Set the value of `n_init` explicitly to suppress the warning\n",
            "  warnings.warn(\n",
            "/usr/local/lib/python3.10/dist-packages/sklearn/cluster/_kmeans.py:870: FutureWarning: The default value of `n_init` will change from 10 to 'auto' in 1.4. Set the value of `n_init` explicitly to suppress the warning\n",
            "  warnings.warn(\n",
            "/usr/local/lib/python3.10/dist-packages/sklearn/cluster/_kmeans.py:870: FutureWarning: The default value of `n_init` will change from 10 to 'auto' in 1.4. Set the value of `n_init` explicitly to suppress the warning\n",
            "  warnings.warn(\n",
            "/usr/local/lib/python3.10/dist-packages/sklearn/cluster/_kmeans.py:870: FutureWarning: The default value of `n_init` will change from 10 to 'auto' in 1.4. Set the value of `n_init` explicitly to suppress the warning\n",
            "  warnings.warn(\n",
            "/usr/local/lib/python3.10/dist-packages/sklearn/cluster/_kmeans.py:870: FutureWarning: The default value of `n_init` will change from 10 to 'auto' in 1.4. Set the value of `n_init` explicitly to suppress the warning\n",
            "  warnings.warn(\n",
            "/usr/local/lib/python3.10/dist-packages/sklearn/cluster/_kmeans.py:870: FutureWarning: The default value of `n_init` will change from 10 to 'auto' in 1.4. Set the value of `n_init` explicitly to suppress the warning\n",
            "  warnings.warn(\n",
            "/usr/local/lib/python3.10/dist-packages/sklearn/cluster/_kmeans.py:870: FutureWarning: The default value of `n_init` will change from 10 to 'auto' in 1.4. Set the value of `n_init` explicitly to suppress the warning\n",
            "  warnings.warn(\n"
          ]
        }
      ],
      "source": [
        "# Create an empty list to store the inertia values\n",
        "inertia_pca =[]\n",
        "\n",
        "# Create a for loop to compute the inertia with each possible value of k\n",
        "# Inside the loop:\n",
        "# 1. Create a KMeans model using the loop counter for the n_clusters\n",
        "# 2. Fit the model to the data using `pca_market_data_df`\n",
        "# 3. Append the model.inertia_ to the inertia list\n",
        "\n",
        "for i in k_pca:\n",
        "    k_pca_model = KMeans(n_clusters=i, random_state=0)\n",
        "    k_pca_model.fit(pca_market_data_df)\n",
        "    inertia_pca.append(k_pca_model.inertia_)"
      ]
    },
    {
      "cell_type": "code",
      "execution_count": 183,
      "metadata": {
        "colab": {
          "base_uri": "https://localhost:8080/",
          "height": 363
        },
        "id": "qRESBtxaC-1d",
        "outputId": "3181014e-f5af-4e5a-9fed-6ea9b31ec0cf"
      },
      "outputs": [
        {
          "output_type": "execute_result",
          "data": {
            "text/plain": [
              "   k_pca  inertia_pca\n",
              "0      1   256.874086\n",
              "1      2   165.901994\n",
              "2      3    93.774626\n",
              "3      4    49.665497\n",
              "4      5    37.878747\n",
              "5      6    27.618972\n",
              "6      7    21.182776\n",
              "7      8    17.389823\n",
              "8      9    13.593650\n",
              "9     10    10.559358"
            ],
            "text/html": [
              "\n",
              "  <div id=\"df-a12ee06e-cbd6-41f6-a766-5af72363f673\">\n",
              "    <div class=\"colab-df-container\">\n",
              "      <div>\n",
              "<style scoped>\n",
              "    .dataframe tbody tr th:only-of-type {\n",
              "        vertical-align: middle;\n",
              "    }\n",
              "\n",
              "    .dataframe tbody tr th {\n",
              "        vertical-align: top;\n",
              "    }\n",
              "\n",
              "    .dataframe thead th {\n",
              "        text-align: right;\n",
              "    }\n",
              "</style>\n",
              "<table border=\"1\" class=\"dataframe\">\n",
              "  <thead>\n",
              "    <tr style=\"text-align: right;\">\n",
              "      <th></th>\n",
              "      <th>k_pca</th>\n",
              "      <th>inertia_pca</th>\n",
              "    </tr>\n",
              "  </thead>\n",
              "  <tbody>\n",
              "    <tr>\n",
              "      <th>0</th>\n",
              "      <td>1</td>\n",
              "      <td>256.874086</td>\n",
              "    </tr>\n",
              "    <tr>\n",
              "      <th>1</th>\n",
              "      <td>2</td>\n",
              "      <td>165.901994</td>\n",
              "    </tr>\n",
              "    <tr>\n",
              "      <th>2</th>\n",
              "      <td>3</td>\n",
              "      <td>93.774626</td>\n",
              "    </tr>\n",
              "    <tr>\n",
              "      <th>3</th>\n",
              "      <td>4</td>\n",
              "      <td>49.665497</td>\n",
              "    </tr>\n",
              "    <tr>\n",
              "      <th>4</th>\n",
              "      <td>5</td>\n",
              "      <td>37.878747</td>\n",
              "    </tr>\n",
              "    <tr>\n",
              "      <th>5</th>\n",
              "      <td>6</td>\n",
              "      <td>27.618972</td>\n",
              "    </tr>\n",
              "    <tr>\n",
              "      <th>6</th>\n",
              "      <td>7</td>\n",
              "      <td>21.182776</td>\n",
              "    </tr>\n",
              "    <tr>\n",
              "      <th>7</th>\n",
              "      <td>8</td>\n",
              "      <td>17.389823</td>\n",
              "    </tr>\n",
              "    <tr>\n",
              "      <th>8</th>\n",
              "      <td>9</td>\n",
              "      <td>13.593650</td>\n",
              "    </tr>\n",
              "    <tr>\n",
              "      <th>9</th>\n",
              "      <td>10</td>\n",
              "      <td>10.559358</td>\n",
              "    </tr>\n",
              "  </tbody>\n",
              "</table>\n",
              "</div>\n",
              "      <button class=\"colab-df-convert\" onclick=\"convertToInteractive('df-a12ee06e-cbd6-41f6-a766-5af72363f673')\"\n",
              "              title=\"Convert this dataframe to an interactive table.\"\n",
              "              style=\"display:none;\">\n",
              "        \n",
              "  <svg xmlns=\"http://www.w3.org/2000/svg\" height=\"24px\"viewBox=\"0 0 24 24\"\n",
              "       width=\"24px\">\n",
              "    <path d=\"M0 0h24v24H0V0z\" fill=\"none\"/>\n",
              "    <path d=\"M18.56 5.44l.94 2.06.94-2.06 2.06-.94-2.06-.94-.94-2.06-.94 2.06-2.06.94zm-11 1L8.5 8.5l.94-2.06 2.06-.94-2.06-.94L8.5 2.5l-.94 2.06-2.06.94zm10 10l.94 2.06.94-2.06 2.06-.94-2.06-.94-.94-2.06-.94 2.06-2.06.94z\"/><path d=\"M17.41 7.96l-1.37-1.37c-.4-.4-.92-.59-1.43-.59-.52 0-1.04.2-1.43.59L10.3 9.45l-7.72 7.72c-.78.78-.78 2.05 0 2.83L4 21.41c.39.39.9.59 1.41.59.51 0 1.02-.2 1.41-.59l7.78-7.78 2.81-2.81c.8-.78.8-2.07 0-2.86zM5.41 20L4 18.59l7.72-7.72 1.47 1.35L5.41 20z\"/>\n",
              "  </svg>\n",
              "      </button>\n",
              "      \n",
              "  <style>\n",
              "    .colab-df-container {\n",
              "      display:flex;\n",
              "      flex-wrap:wrap;\n",
              "      gap: 12px;\n",
              "    }\n",
              "\n",
              "    .colab-df-convert {\n",
              "      background-color: #E8F0FE;\n",
              "      border: none;\n",
              "      border-radius: 50%;\n",
              "      cursor: pointer;\n",
              "      display: none;\n",
              "      fill: #1967D2;\n",
              "      height: 32px;\n",
              "      padding: 0 0 0 0;\n",
              "      width: 32px;\n",
              "    }\n",
              "\n",
              "    .colab-df-convert:hover {\n",
              "      background-color: #E2EBFA;\n",
              "      box-shadow: 0px 1px 2px rgba(60, 64, 67, 0.3), 0px 1px 3px 1px rgba(60, 64, 67, 0.15);\n",
              "      fill: #174EA6;\n",
              "    }\n",
              "\n",
              "    [theme=dark] .colab-df-convert {\n",
              "      background-color: #3B4455;\n",
              "      fill: #D2E3FC;\n",
              "    }\n",
              "\n",
              "    [theme=dark] .colab-df-convert:hover {\n",
              "      background-color: #434B5C;\n",
              "      box-shadow: 0px 1px 3px 1px rgba(0, 0, 0, 0.15);\n",
              "      filter: drop-shadow(0px 1px 2px rgba(0, 0, 0, 0.3));\n",
              "      fill: #FFFFFF;\n",
              "    }\n",
              "  </style>\n",
              "\n",
              "      <script>\n",
              "        const buttonEl =\n",
              "          document.querySelector('#df-a12ee06e-cbd6-41f6-a766-5af72363f673 button.colab-df-convert');\n",
              "        buttonEl.style.display =\n",
              "          google.colab.kernel.accessAllowed ? 'block' : 'none';\n",
              "\n",
              "        async function convertToInteractive(key) {\n",
              "          const element = document.querySelector('#df-a12ee06e-cbd6-41f6-a766-5af72363f673');\n",
              "          const dataTable =\n",
              "            await google.colab.kernel.invokeFunction('convertToInteractive',\n",
              "                                                     [key], {});\n",
              "          if (!dataTable) return;\n",
              "\n",
              "          const docLinkHtml = 'Like what you see? Visit the ' +\n",
              "            '<a target=\"_blank\" href=https://colab.research.google.com/notebooks/data_table.ipynb>data table notebook</a>'\n",
              "            + ' to learn more about interactive tables.';\n",
              "          element.innerHTML = '';\n",
              "          dataTable['output_type'] = 'display_data';\n",
              "          await google.colab.output.renderOutput(dataTable, element);\n",
              "          const docLink = document.createElement('div');\n",
              "          docLink.innerHTML = docLinkHtml;\n",
              "          element.appendChild(docLink);\n",
              "        }\n",
              "      </script>\n",
              "    </div>\n",
              "  </div>\n",
              "  "
            ]
          },
          "metadata": {},
          "execution_count": 183
        }
      ],
      "source": [
        "# Create a dictionary with the data to plot the Elbow curve\n",
        "elbow_pca_data = {\"k_pca\": k_pca, \"inertia_pca\": inertia_pca}\n",
        "\n",
        "# Create a DataFrame with the data to plot the Elbow curve\n",
        "df_pca_elbow = pd.DataFrame(elbow_pca_data)\n",
        "df_pca_elbow.head(10)"
      ]
    },
    {
      "cell_type": "code",
      "execution_count": 184,
      "metadata": {
        "colab": {
          "base_uri": "https://localhost:8080/",
          "height": 468
        },
        "id": "YgCcaSRuC-1d",
        "outputId": "90f38289-2be8-4208-870a-3c2c33eed7c0"
      },
      "outputs": [
        {
          "output_type": "execute_result",
          "data": {
            "text/plain": [
              "<Axes: xlabel='k_pca'>"
            ]
          },
          "metadata": {},
          "execution_count": 184
        },
        {
          "output_type": "display_data",
          "data": {
            "text/plain": [
              "<Figure size 640x480 with 1 Axes>"
            ],
            "image/png": "[encoded data removed]"
          },
          "metadata": {}
        }
      ],
      "source": [
        "# Plot a line chart with all the inertia values computed with\n",
        "# the different values of k to visually identify the optimal value for k.\n",
        "df_pca_elbow.plot('k_pca', 'inertia_pca')"
      ]
    },
    {
      "cell_type": "markdown",
      "metadata": {
        "id": "qBGQh7XtC-1d"
      },
      "source": [
        "#### Answer the following questions:\n",
        "\n",
        "* **Question:** What is the best value for `k` when using the PCA data?\n",
        "\n",
        "  * **Answer:**This plot looks a lot litke the original, it seems that the point where the inertia values significantly decrease is between 3 and 4, but closer to 4.\n",
        "\n",
        "\n",
        "* **Question:** Does it differ from the best k value found using the original data?\n",
        "\n",
        "  * **Answer:** The data frame has a small difference in the intertia amounts compared to the original data, so has the plot."
      ]
    },
    {
      "cell_type": "markdown",
      "metadata": {
        "id": "_x2vOswSC-1e"
      },
      "source": [
        "### Cluster Cryptocurrencies with K-means Using the PCA Data"
      ]
    },
    {
      "cell_type": "code",
      "execution_count": 185,
      "metadata": {
        "id": "mC-PozDHC-1e"
      },
      "outputs": [],
      "source": [
        "# Initialize the K-Means model using the best value for k\n",
        "k_pca_segment = KMeans(n_clusters=4, random_state=1)"
      ]
    },
    {
      "cell_type": "code",
      "execution_count": 186,
      "metadata": {
        "colab": {
          "base_uri": "https://localhost:8080/",
          "height": 130
        },
        "id": "SIm1BgAwC-1i",
        "outputId": "455fb3b9-9b17-48a7-8693-982be89ad895"
      },
      "outputs": [
        {
          "output_type": "stream",
          "name": "stderr",
          "text": [
            "/usr/local/lib/python3.10/dist-packages/sklearn/cluster/_kmeans.py:870: FutureWarning: The default value of `n_init` will change from 10 to 'auto' in 1.4. Set the value of `n_init` explicitly to suppress the warning\n",
            "  warnings.warn(\n"
          ]
        },
        {
          "output_type": "execute_result",
          "data": {
            "text/plain": [
              "KMeans(n_clusters=4, random_state=1)"
            ],
            "text/html": [
              "<style>#sk-container-id-9 {color: black;background-color: white;}#sk-container-id-9 pre{padding: 0;}#sk-container-id-9 div.sk-toggleable {background-color: white;}#sk-container-id-9 label.sk-toggleable__label {cursor: pointer;display: block;width: 100%;margin-bottom: 0;padding: 0.3em;box-sizing: border-box;text-align: center;}#sk-container-id-9 label.sk-toggleable__label-arrow:before {content: \"▸\";float: left;margin-right: 0.25em;color: #696969;}#sk-container-id-9 label.sk-toggleable__label-arrow:hover:before {color: black;}#sk-container-id-9 div.sk-estimator:hover label.sk-toggleable__label-arrow:before {color: black;}#sk-container-id-9 div.sk-toggleable__content {max-height: 0;max-width: 0;overflow: hidden;text-align: left;background-color: #f0f8ff;}#sk-container-id-9 div.sk-toggleable__content pre {margin: 0.2em;color: black;border-radius: 0.25em;background-color: #f0f8ff;}#sk-container-id-9 input.sk-toggleable__control:checked~div.sk-toggleable__content {max-height: 200px;max-width: 100%;overflow: auto;}#sk-container-id-9 input.sk-toggleable__control:checked~label.sk-toggleable__label-arrow:before {content: \"▾\";}#sk-container-id-9 div.sk-estimator input.sk-toggleable__control:checked~label.sk-toggleable__label {background-color: #d4ebff;}#sk-container-id-9 div.sk-label input.sk-toggleable__control:checked~label.sk-toggleable__label {background-color: #d4ebff;}#sk-container-id-9 input.sk-hidden--visually {border: 0;clip: rect(1px 1px 1px 1px);clip: rect(1px, 1px, 1px, 1px);height: 1px;margin: -1px;overflow: hidden;padding: 0;position: absolute;width: 1px;}#sk-container-id-9 div.sk-estimator {font-family: monospace;background-color: #f0f8ff;border: 1px dotted black;border-radius: 0.25em;box-sizing: border-box;margin-bottom: 0.5em;}#sk-container-id-9 div.sk-estimator:hover {background-color: #d4ebff;}#sk-container-id-9 div.sk-parallel-item::after {content: \"\";width: 100%;border-bottom: 1px solid gray;flex-grow: 1;}#sk-container-id-9 div.sk-label:hover label.sk-toggleable__label {background-color: #d4ebff;}#sk-container-id-9 div.sk-serial::before {content: \"\";position: absolute;border-left: 1px solid gray;box-sizing: border-box;top: 0;bottom: 0;left: 50%;z-index: 0;}#sk-container-id-9 div.sk-serial {display: flex;flex-direction: column;align-items: center;background-color: white;padding-right: 0.2em;padding-left: 0.2em;position: relative;}#sk-container-id-9 div.sk-item {position: relative;z-index: 1;}#sk-container-id-9 div.sk-parallel {display: flex;align-items: stretch;justify-content: center;background-color: white;position: relative;}#sk-container-id-9 div.sk-item::before, #sk-container-id-9 div.sk-parallel-item::before {content: \"\";position: absolute;border-left: 1px solid gray;box-sizing: border-box;top: 0;bottom: 0;left: 50%;z-index: -1;}#sk-container-id-9 div.sk-parallel-item {display: flex;flex-direction: column;z-index: 1;position: relative;background-color: white;}#sk-container-id-9 div.sk-parallel-item:first-child::after {align-self: flex-end;width: 50%;}#sk-container-id-9 div.sk-parallel-item:last-child::after {align-self: flex-start;width: 50%;}#sk-container-id-9 div.sk-parallel-item:only-child::after {width: 0;}#sk-container-id-9 div.sk-dashed-wrapped {border: 1px dashed gray;margin: 0 0.4em 0.5em 0.4em;box-sizing: border-box;padding-bottom: 0.4em;background-color: white;}#sk-container-id-9 div.sk-label label {font-family: monospace;font-weight: bold;display: inline-block;line-height: 1.2em;}#sk-container-id-9 div.sk-label-container {text-align: center;}#sk-container-id-9 div.sk-container {/* jupyter's `normalize.less` sets `[hidden] { display: none; }` but bootstrap.min.css set `[hidden] { display: none !important; }` so we also need the `!important` here to be able to override the default hidden behavior on the sphinx rendered scikit-learn.org. See: https://github.com/scikit-learn/scikit-learn/issues/21755 */display: inline-block !important;position: relative;}#sk-container-id-9 div.sk-text-repr-fallback {display: none;}</style><div id=\"sk-container-id-9\" class=\"sk-top-container\"><div class=\"sk-text-repr-fallback\"><pre>KMeans(n_clusters=4, random_state=1)</pre><b>In a Jupyter environment, please rerun this cell to show the HTML representation or trust the notebook. <br />On GitHub, the HTML representation is unable to render, please try loading this page with nbviewer.org.</b></div><div class=\"sk-container\" hidden><div class=\"sk-item\"><div class=\"sk-estimator sk-toggleable\"><input class=\"sk-toggleable__control sk-hidden--visually\" id=\"sk-estimator-id-9\" type=\"checkbox\" checked><label for=\"sk-estimator-id-9\" class=\"sk-toggleable__label sk-toggleable__label-arrow\">KMeans</label><div class=\"sk-toggleable__content\"><pre>KMeans(n_clusters=4, random_state=1)</pre></div></div></div></div></div>"
            ]
          },
          "metadata": {},
          "execution_count": 186
        }
      ],
      "source": [
        "# Fit the K-Means model using the PCA data\n",
        "k_pca_segment.fit(pca_market_data_df)"
      ]
    },
    {
      "cell_type": "code",
      "execution_count": 187,
      "metadata": {
        "colab": {
          "base_uri": "https://localhost:8080/"
        },
        "id": "HgefnOP6C-1i",
        "outputId": "1e0cd491-12c1-4ab7-eaf5-fe7345423dc3"
      },
      "outputs": [
        {
          "output_type": "execute_result",
          "data": {
            "text/plain": [
              "array([1, 1, 0, 0, 1, 1, 1, 1, 1, 0, 0, 0, 0, 1, 0, 1, 0, 0, 1, 0, 0, 1,\n",
              "       0, 0, 0, 0, 0, 0, 1, 0, 0, 0, 2, 1, 0, 0, 3, 0, 0, 0, 0],\n",
              "      dtype=int32)"
            ]
          },
          "metadata": {},
          "execution_count": 187
        }
      ],
      "source": [
        "# Predict the clusters to group the cryptocurrencies using the PCA data\n",
        "k_pca_pred = k_pca_segment.predict(pca_market_data_df)\n",
        "\n",
        "# Print the resulting array of cluster values.\n",
        "k_pca_pred\n"
      ]
    },
    {
      "cell_type": "code",
      "execution_count": 188,
      "metadata": {
        "colab": {
          "base_uri": "https://localhost:8080/",
          "height": 394
        },
        "id": "gY5O40NKC-1i",
        "outputId": "7fad5e25-94e2-4b32-97b2-43dfbd5c5618"
      },
      "outputs": [
        {
          "output_type": "execute_result",
          "data": {
            "text/plain": [
              "                     PCA1      PCA2      PCA3  k_pca_seg\n",
              "coin_id                                                 \n",
              "digibyte        -0.297910 -0.191126 -0.909602          0\n",
              "cardano         -0.345600  0.729439  1.478013          1\n",
              "stellar         -0.489015 -0.732719 -0.062543          0\n",
              "tether          -0.433070 -0.168126 -0.641752          0\n",
              "tron            -0.393352 -0.108192 -0.012756          0\n",
              "theta-token      2.676868 -0.013954 -1.965207          0\n",
              "ripple          -0.471835 -0.222660 -0.479053          0\n",
              "havven           0.865762 -2.261882  0.275583          0\n",
              "wrapped-bitcoin -0.604265  0.827398  0.439316          1\n",
              "maker           -0.389045  0.165041  0.379414          1"
            ],
            "text/html": [
              "\n",
              "  <div id=\"df-14384234-3b1a-47ac-9346-33b447402370\">\n",
              "    <div class=\"colab-df-container\">\n",
              "      <div>\n",
              "<style scoped>\n",
              "    .dataframe tbody tr th:only-of-type {\n",
              "        vertical-align: middle;\n",
              "    }\n",
              "\n",
              "    .dataframe tbody tr th {\n",
              "        vertical-align: top;\n",
              "    }\n",
              "\n",
              "    .dataframe thead th {\n",
              "        text-align: right;\n",
              "    }\n",
              "</style>\n",
              "<table border=\"1\" class=\"dataframe\">\n",
              "  <thead>\n",
              "    <tr style=\"text-align: right;\">\n",
              "      <th></th>\n",
              "      <th>PCA1</th>\n",
              "      <th>PCA2</th>\n",
              "      <th>PCA3</th>\n",
              "      <th>k_pca_seg</th>\n",
              "    </tr>\n",
              "    <tr>\n",
              "      <th>coin_id</th>\n",
              "      <th></th>\n",
              "      <th></th>\n",
              "      <th></th>\n",
              "      <th></th>\n",
              "    </tr>\n",
              "  </thead>\n",
              "  <tbody>\n",
              "    <tr>\n",
              "      <th>digibyte</th>\n",
              "      <td>-0.297910</td>\n",
              "      <td>-0.191126</td>\n",
              "      <td>-0.909602</td>\n",
              "      <td>0</td>\n",
              "    </tr>\n",
              "    <tr>\n",
              "      <th>cardano</th>\n",
              "      <td>-0.345600</td>\n",
              "      <td>0.729439</td>\n",
              "      <td>1.478013</td>\n",
              "      <td>1</td>\n",
              "    </tr>\n",
              "    <tr>\n",
              "      <th>stellar</th>\n",
              "      <td>-0.489015</td>\n",
              "      <td>-0.732719</td>\n",
              "      <td>-0.062543</td>\n",
              "      <td>0</td>\n",
              "    </tr>\n",
              "    <tr>\n",
              "      <th>tether</th>\n",
              "      <td>-0.433070</td>\n",
              "      <td>-0.168126</td>\n",
              "      <td>-0.641752</td>\n",
              "      <td>0</td>\n",
              "    </tr>\n",
              "    <tr>\n",
              "      <th>tron</th>\n",
              "      <td>-0.393352</td>\n",
              "      <td>-0.108192</td>\n",
              "      <td>-0.012756</td>\n",
              "      <td>0</td>\n",
              "    </tr>\n",
              "    <tr>\n",
              "      <th>theta-token</th>\n",
              "      <td>2.676868</td>\n",
              "      <td>-0.013954</td>\n",
              "      <td>-1.965207</td>\n",
              "      <td>0</td>\n",
              "    </tr>\n",
              "    <tr>\n",
              "      <th>ripple</th>\n",
              "      <td>-0.471835</td>\n",
              "      <td>-0.222660</td>\n",
              "      <td>-0.479053</td>\n",
              "      <td>0</td>\n",
              "    </tr>\n",
              "    <tr>\n",
              "      <th>havven</th>\n",
              "      <td>0.865762</td>\n",
              "      <td>-2.261882</td>\n",
              "      <td>0.275583</td>\n",
              "      <td>0</td>\n",
              "    </tr>\n",
              "    <tr>\n",
              "      <th>wrapped-bitcoin</th>\n",
              "      <td>-0.604265</td>\n",
              "      <td>0.827398</td>\n",
              "      <td>0.439316</td>\n",
              "      <td>1</td>\n",
              "    </tr>\n",
              "    <tr>\n",
              "      <th>maker</th>\n",
              "      <td>-0.389045</td>\n",
              "      <td>0.165041</td>\n",
              "      <td>0.379414</td>\n",
              "      <td>1</td>\n",
              "    </tr>\n",
              "  </tbody>\n",
              "</table>\n",
              "</div>\n",
              "      <button class=\"colab-df-convert\" onclick=\"convertToInteractive('df-14384234-3b1a-47ac-9346-33b447402370')\"\n",
              "              title=\"Convert this dataframe to an interactive table.\"\n",
              "              style=\"display:none;\">\n",
              "        \n",
              "  <svg xmlns=\"http://www.w3.org/2000/svg\" height=\"24px\"viewBox=\"0 0 24 24\"\n",
              "       width=\"24px\">\n",
              "    <path d=\"M0 0h24v24H0V0z\" fill=\"none\"/>\n",
              "    <path d=\"M18.56 5.44l.94 2.06.94-2.06 2.06-.94-2.06-.94-.94-2.06-.94 2.06-2.06.94zm-11 1L8.5 8.5l.94-2.06 2.06-.94-2.06-.94L8.5 2.5l-.94 2.06-2.06.94zm10 10l.94 2.06.94-2.06 2.06-.94-2.06-.94-.94-2.06-.94 2.06-2.06.94z\"/><path d=\"M17.41 7.96l-1.37-1.37c-.4-.4-.92-.59-1.43-.59-.52 0-1.04.2-1.43.59L10.3 9.45l-7.72 7.72c-.78.78-.78 2.05 0 2.83L4 21.41c.39.39.9.59 1.41.59.51 0 1.02-.2 1.41-.59l7.78-7.78 2.81-2.81c.8-.78.8-2.07 0-2.86zM5.41 20L4 18.59l7.72-7.72 1.47 1.35L5.41 20z\"/>\n",
              "  </svg>\n",
              "      </button>\n",
              "      \n",
              "  <style>\n",
              "    .colab-df-container {\n",
              "      display:flex;\n",
              "      flex-wrap:wrap;\n",
              "      gap: 12px;\n",
              "    }\n",
              "\n",
              "    .colab-df-convert {\n",
              "      background-color: #E8F0FE;\n",
              "      border: none;\n",
              "      border-radius: 50%;\n",
              "      cursor: pointer;\n",
              "      display: none;\n",
              "      fill: #1967D2;\n",
              "      height: 32px;\n",
              "      padding: 0 0 0 0;\n",
              "      width: 32px;\n",
              "    }\n",
              "\n",
              "    .colab-df-convert:hover {\n",
              "      background-color: #E2EBFA;\n",
              "      box-shadow: 0px 1px 2px rgba(60, 64, 67, 0.3), 0px 1px 3px 1px rgba(60, 64, 67, 0.15);\n",
              "      fill: #174EA6;\n",
              "    }\n",
              "\n",
              "    [theme=dark] .colab-df-convert {\n",
              "      background-color: #3B4455;\n",
              "      fill: #D2E3FC;\n",
              "    }\n",
              "\n",
              "    [theme=dark] .colab-df-convert:hover {\n",
              "      background-color: #434B5C;\n",
              "      box-shadow: 0px 1px 3px 1px rgba(0, 0, 0, 0.15);\n",
              "      filter: drop-shadow(0px 1px 2px rgba(0, 0, 0, 0.3));\n",
              "      fill: #FFFFFF;\n",
              "    }\n",
              "  </style>\n",
              "\n",
              "      <script>\n",
              "        const buttonEl =\n",
              "          document.querySelector('#df-14384234-3b1a-47ac-9346-33b447402370 button.colab-df-convert');\n",
              "        buttonEl.style.display =\n",
              "          google.colab.kernel.accessAllowed ? 'block' : 'none';\n",
              "\n",
              "        async function convertToInteractive(key) {\n",
              "          const element = document.querySelector('#df-14384234-3b1a-47ac-9346-33b447402370');\n",
              "          const dataTable =\n",
              "            await google.colab.kernel.invokeFunction('convertToInteractive',\n",
              "                                                     [key], {});\n",
              "          if (!dataTable) return;\n",
              "\n",
              "          const docLinkHtml = 'Like what you see? Visit the ' +\n",
              "            '<a target=\"_blank\" href=https://colab.research.google.com/notebooks/data_table.ipynb>data table notebook</a>'\n",
              "            + ' to learn more about interactive tables.';\n",
              "          element.innerHTML = '';\n",
              "          dataTable['output_type'] = 'display_data';\n",
              "          await google.colab.output.renderOutput(dataTable, element);\n",
              "          const docLink = document.createElement('div');\n",
              "          docLink.innerHTML = docLinkHtml;\n",
              "          element.appendChild(docLink);\n",
              "        }\n",
              "      </script>\n",
              "    </div>\n",
              "  </div>\n",
              "  "
            ]
          },
          "metadata": {},
          "execution_count": 188
        }
      ],
      "source": [
        "# Create a copy of the DataFrame with the PCA data\n",
        "market_data_k_pca_df = pca_market_data_df.copy()\n",
        "\n",
        "# Add a new column to the DataFrame with the predicted clusters\n",
        "market_data_k_pca_df['k_pca_seg'] = k_pca_pred\n",
        "\n",
        "# Display sample data\n",
        "market_data_k_pca_df.sample(10)\n"
      ]
    },
    {
      "cell_type": "code",
      "execution_count": 189,
      "metadata": {
        "colab": {
          "base_uri": "https://localhost:8080/",
          "height": 455
        },
        "id": "-3XhixluC-1i",
        "outputId": "c83da173-826e-4cc7-a642-cfd62f87e9c5"
      },
      "outputs": [
        {
          "output_type": "display_data",
          "data": {
            "text/plain": [
              "<Figure size 640x480 with 2 Axes>"
            ],
            "image/png": "[encoded data removed]"
          },
          "metadata": {}
        }
      ],
      "source": [
        "# Create a scatter plot using hvPlot by setting\n",
        "# `x=\"PC1\"` and `y=\"PC2\"`.\n",
        "# Color the graph points with the labels found using K-Means and\n",
        "# add the crypto name in the `hover_cols` parameter to identify\n",
        "# the cryptocurrency represented by each data point.\n",
        "\n",
        "scatter_plot = market_data_k_pca_df.plot.scatter(\n",
        "    \"PCA1\",\n",
        "    \"PCA2\",\n",
        "    c='k_pca_seg',\n",
        "    cmap=\"viridis\")\n",
        "\n",
        "plt.show()"
      ]
    },
    {
      "cell_type": "markdown",
      "metadata": {
        "id": "aTOAddykC-1j"
      },
      "source": [
        "### Visualize and Compare the Results\n",
        "\n",
        "In this section, you will visually analyze the cluster analysis results by contrasting the outcome with and without using the optimization techniques."
      ]
    },
    {
      "cell_type": "code",
      "execution_count": 190,
      "metadata": {
        "colab": {
          "base_uri": "https://localhost:8080/",
          "height": 472
        },
        "id": "vfJjsOQFC-1j",
        "outputId": "e0f13cfb-784c-48bf-b6ec-58f7c9038dc1"
      },
      "outputs": [
        {
          "output_type": "display_data",
          "data": {
            "text/plain": [
              "<Figure size 640x480 with 1 Axes>"
            ],
            "image/png": "[encoded data removed]"
          },
          "metadata": {}
        }
      ],
      "source": [
        "# Composite plot to contrast the Elbow curves\n",
        "plt.plot(df_elbow['k'], df_elbow['inertia'], label='Original Data')\n",
        "plt.plot(df_pca_elbow['k_pca'], df_pca_elbow['inertia_pca'], label='PCA Data')\n",
        "\n",
        "plt.xlabel('Number of Clusters (k)')\n",
        "plt.ylabel('Inertia')\n",
        "plt.title('Elbow Curve - Original Data vs PCA Data')\n",
        "\n",
        "plt.legend()\n",
        "\n",
        "plt.show()"
      ]
    },
    {
      "cell_type": "code",
      "execution_count": 194,
      "metadata": {
        "colab": {
          "base_uri": "https://localhost:8080/",
          "height": 910
        },
        "id": "Xsh2F_pFC-1j",
        "outputId": "14fc1ad4-b873-4793-9e5d-eeb5f23e86b2"
      },
      "outputs": [
        {
          "output_type": "display_data",
          "data": {
            "text/plain": [
              "<Figure size 640x480 with 2 Axes>"
            ],
            "image/png": "[encoded data removed]"
          },
          "metadata": {}
        },
        {
          "output_type": "display_data",
          "data": {
            "text/plain": [
              "<Figure size 640x480 with 2 Axes>"
            ],
            "image/png": "[encoded data removed]"
          },
          "metadata": {}
        }
      ],
      "source": [
        "# Composite plot to contrast the clusters\n",
        "scatter_plot = market_data_k_df.plot.scatter(\n",
        "    \"price_change_percentage_24h\",\n",
        "    \"price_change_percentage_7d\",\n",
        "    c='k_seg',\n",
        "    cmap=\"viridis\",\n",
        "    label='Original Data')\n",
        "\n",
        "\n",
        "plt.title('Clustering Results - Original Data vs PCA Data')\n",
        "\n",
        "market_data_k_pca_df.plot.scatter(\n",
        "    \"PCA1\",\n",
        "    \"PCA2\",\n",
        "    c='k_pca_seg',\n",
        "    cmap=\"viridis\",\n",
        "    label='PCA Data')\n",
        "\n",
        "\n",
        "plt.legend()\n",
        "\n",
        "plt.show()"
      ]
    },
    {
      "cell_type": "markdown",
      "metadata": {
        "id": "vIhYK8qqC-1j"
      },
      "source": [
        "#### Answer the following question:\n",
        "\n",
        "  * **Question:** After visually analyzing the cluster analysis results, what is the impact of using fewer features to cluster the data using K-Means?\n",
        "\n",
        "  * **Answer:** Observing hte line plots, it seems that when we used fewer features the inertia drecreases faster, and the clusters become better separated.\n",
        "  Furthermore, in the scatter plots, when using fewer features it seems tgat the clusters get closer in a group.\n",
        "  Therefore, fewer features here mean better dfined clusters and sharper intertia line."
      ]
    },
    {
      "cell_type": "code",
      "source": [],
      "metadata": {
        "id": "thzUVg4SwuyQ"
      },
      "execution_count": 191,
      "outputs": []
    }
  ],
  "metadata": {
    "kernelspec": {
      "display_name": "Python 3 (ipykernel)",
      "language": "python",
      "name": "python3"
    },
    "language_info": {
      "codemirror_mode": {
        "name": "ipython",
        "version": 3
      },
      "file_extension": ".py",
      "mimetype": "text/x-python",
      "name": "python",
      "nbconvert_exporter": "python",
      "pygments_lexer": "ipython3",
      "version": "3.10.4"
    },
    "nteract": {
      "version": "0.28.0"
    },
    "vscode": {
      "interpreter": {
        "hash": "40d3a090f54c6569ab1632332b64b2c03c39dcf918b08424e98f38b5ae0af88f"
      }
    },
    "colab": {
      "provenance": []
    }
  },
  "nbformat": 4,
  "nbformat_minor": 0
}